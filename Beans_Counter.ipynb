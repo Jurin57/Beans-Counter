{
 "cells": [
  {
   "cell_type": "markdown",
   "metadata": {},
   "source": [
    "# Data Collection"
   ]
  },
  {
   "cell_type": "raw",
   "metadata": {},
   "source": [
    "# Below is a `list` of popular Jelly Belly `flavors`."
   ]
  },
  {
   "cell_type": "code",
   "execution_count": 1,
   "metadata": {},
   "outputs": [],
   "source": [
    "flavors = [ \"Coconut\", \"Strawberry Cheesecake\", \"Green Apple\", \"Licorice\", \"Kiwi\", \"Berry Blue\", \"Dr. Pepper\", \"Sunkist Orange\", \"Chili Mango\", \"Pomegranate\", \"Sunkist Lime\", \"Caramel Corn\", \"Cappuccino\", \"French Vanilla\", \"Red Apple\", \"Very Cherry\", \"Buttered Popcorn\", \"Lemon Drop\", \"Orange Sherbet\", \"Tutti-Fruitti\", \"Sunkist Lemon\", \"Sunkist Tangerine\", \"Strawberry Daiquiri\", \"Plum\", \"Sizzling Cinnamon\", \"Margarita\", \"A&W Cream Soda\", \"Cotton Candy\", \"Island Punch\", \"Raspberry\", \"Strawberry Jam\", \"Bubble Gum\", \"Lemon Lime\", \"Top Banana\", \"Cinnamon\", \"Peach\", \"Crushed Pineapple\", \"Watermelon\", \"A&W Root Beer\", \"Blueberry\", \"Sunkist Pink Grapefruit\", \"Mango\", \"Pina Colada\", \"Juicy Pear\", \"Mixed Berry Smoothie\", \"Toasted Marshmallow\", \"Chocolate Pudding\", \"Wild Blackberry\", \"Sour Cherry\", \"Cantaloupe\" ]\n",
    "flavors = tuple(sorted(flavors))"
   ]
  },
  {
   "cell_type": "markdown",
   "metadata": {},
   "source": [
    "Create a `list` named `memberNames` which contains the names \"Clara\", \"Ben\", and \"Alex\", in that order."
   ]
  },
  {
   "cell_type": "code",
   "execution_count": 2,
   "metadata": {},
   "outputs": [],
   "source": [
    "memberNames = (\"Clara\", \"Ben\", \"Alex\")\n",
    "memberNames = tuple(sorted(memberNames))"
   ]
  },
  {
   "cell_type": "markdown",
   "metadata": {},
   "source": [
    "Each member has lots of beans"
   ]
  },
  {
   "cell_type": "code",
   "execution_count": 3,
   "metadata": {},
   "outputs": [
    {
     "name": "stdout",
     "output_type": "stream",
     "text": [
      "The member's name is Alex.\n",
      "Alex's Jelly Bellies as a dictionary: {'A&W Cream Soda': 24, 'A&W Root Beer': 50, 'Berry Blue': 49, 'Blueberry': 25, 'Bubble Gum': 37, 'Buttered Popcorn': 27, 'Cantaloupe': 25, 'Cappuccino': 36, 'Caramel Corn': 36, 'Chili Mango': 29, 'Chocolate Pudding': 49, 'Cinnamon': 23, 'Coconut': 27, 'Cotton Candy': 25, 'Crushed Pineapple': 21, 'Dr. Pepper': 21, 'French Vanilla': 38, 'Green Apple': 36, 'Island Punch': 31, 'Juicy Pear': 40, 'Kiwi': 38, 'Lemon Drop': 27, 'Lemon Lime': 42, 'Licorice': 30, 'Mango': 41, 'Margarita': 42, 'Mixed Berry Smoothie': 24, 'Orange Sherbet': 20, 'Peach': 43, 'Pina Colada': 33, 'Plum': 20, 'Pomegranate': 35, 'Raspberry': 41, 'Red Apple': 45, 'Sizzling Cinnamon': 29, 'Sour Cherry': 48, 'Strawberry Cheesecake': 40, 'Strawberry Daiquiri': 23, 'Strawberry Jam': 42, 'Sunkist Lemon': 44, 'Sunkist Lime': 26, 'Sunkist Orange': 45, 'Sunkist Pink Grapefruit': 27, 'Sunkist Tangerine': 22, 'Toasted Marshmallow': 42, 'Top Banana': 22, 'Tutti-Fruitti': 30, 'Very Cherry': 28, 'Watermelon': 33, 'Wild Blackberry': 23}\n",
      "\n",
      "The member's name is Ben.\n",
      "Ben's Jelly Bellies as a dictionary: {'A&W Cream Soda': 46, 'A&W Root Beer': 33, 'Berry Blue': 24, 'Blueberry': 44, 'Bubble Gum': 46, 'Buttered Popcorn': 38, 'Cantaloupe': 48, 'Cappuccino': 46, 'Caramel Corn': 39, 'Chili Mango': 41, 'Chocolate Pudding': 29, 'Cinnamon': 26, 'Coconut': 25, 'Cotton Candy': 45, 'Crushed Pineapple': 30, 'Dr. Pepper': 32, 'French Vanilla': 43, 'Green Apple': 20, 'Island Punch': 33, 'Juicy Pear': 20, 'Kiwi': 41, 'Lemon Drop': 26, 'Lemon Lime': 48, 'Licorice': 50, 'Mango': 41, 'Margarita': 37, 'Mixed Berry Smoothie': 42, 'Orange Sherbet': 31, 'Peach': 47, 'Pina Colada': 46, 'Plum': 47, 'Pomegranate': 25, 'Raspberry': 45, 'Red Apple': 37, 'Sizzling Cinnamon': 48, 'Sour Cherry': 40, 'Strawberry Cheesecake': 21, 'Strawberry Daiquiri': 34, 'Strawberry Jam': 32, 'Sunkist Lemon': 20, 'Sunkist Lime': 20, 'Sunkist Orange': 40, 'Sunkist Pink Grapefruit': 32, 'Sunkist Tangerine': 49, 'Toasted Marshmallow': 34, 'Top Banana': 34, 'Tutti-Fruitti': 38, 'Very Cherry': 27, 'Watermelon': 38, 'Wild Blackberry': 31}\n",
      "\n",
      "The member's name is Clara.\n",
      "Clara's Jelly Bellies as a dictionary: {'A&W Cream Soda': 32, 'A&W Root Beer': 25, 'Berry Blue': 33, 'Blueberry': 27, 'Bubble Gum': 45, 'Buttered Popcorn': 46, 'Cantaloupe': 35, 'Cappuccino': 30, 'Caramel Corn': 43, 'Chili Mango': 40, 'Chocolate Pudding': 34, 'Cinnamon': 32, 'Coconut': 29, 'Cotton Candy': 42, 'Crushed Pineapple': 44, 'Dr. Pepper': 25, 'French Vanilla': 47, 'Green Apple': 45, 'Island Punch': 27, 'Juicy Pear': 30, 'Kiwi': 33, 'Lemon Drop': 21, 'Lemon Lime': 38, 'Licorice': 22, 'Mango': 29, 'Margarita': 27, 'Mixed Berry Smoothie': 48, 'Orange Sherbet': 21, 'Peach': 46, 'Pina Colada': 31, 'Plum': 47, 'Pomegranate': 46, 'Raspberry': 40, 'Red Apple': 32, 'Sizzling Cinnamon': 32, 'Sour Cherry': 28, 'Strawberry Cheesecake': 30, 'Strawberry Daiquiri': 31, 'Strawberry Jam': 47, 'Sunkist Lemon': 47, 'Sunkist Lime': 44, 'Sunkist Orange': 32, 'Sunkist Pink Grapefruit': 49, 'Sunkist Tangerine': 30, 'Toasted Marshmallow': 31, 'Top Banana': 41, 'Tutti-Fruitti': 49, 'Very Cherry': 40, 'Watermelon': 32, 'Wild Blackberry': 30}\n",
      "\n"
     ]
    }
   ],
   "source": [
    "beanBags = {}\n",
    "alexBeans = { 'A&W Cream Soda': 24, 'A&W Root Beer': 50, 'Berry Blue': 49, 'Blueberry': 25, 'Bubble Gum': 37, 'Buttered Popcorn': 27, 'Cantaloupe': 25, 'Cappuccino': 36, 'Caramel Corn': 36, 'Chili Mango': 29, 'Chocolate Pudding': 49, 'Cinnamon': 23, 'Coconut': 27, 'Cotton Candy': 25, 'Crushed Pineapple': 21, 'Dr. Pepper': 21, 'French Vanilla': 38, 'Green Apple': 36, 'Island Punch': 31, 'Juicy Pear': 40, 'Kiwi': 38, 'Lemon Drop': 27, 'Lemon Lime': 42, 'Licorice': 30, 'Mango': 41, 'Margarita': 42, 'Mixed Berry Smoothie': 24, 'Orange Sherbet': 20, 'Peach': 43, 'Pina Colada': 33, 'Plum': 20, 'Pomegranate': 35, 'Raspberry': 41, 'Red Apple': 45, 'Sizzling Cinnamon': 29, 'Sour Cherry': 48, 'Strawberry Cheesecake': 40, 'Strawberry Daiquiri': 23, 'Strawberry Jam': 42, 'Sunkist Lemon': 44, 'Sunkist Lime': 26, 'Sunkist Orange': 45, 'Sunkist Pink Grapefruit': 27, 'Sunkist Tangerine': 22, 'Toasted Marshmallow': 42, 'Top Banana': 22, 'Tutti-Fruitti': 30, 'Very Cherry': 28, 'Watermelon': 33, 'Wild Blackberry': 23 }\n",
    "benBeans = { 'A&W Cream Soda': 46, 'A&W Root Beer': 33, 'Berry Blue': 24, 'Blueberry': 44, 'Bubble Gum': 46, 'Buttered Popcorn': 38, 'Cantaloupe': 48, 'Cappuccino': 46, 'Caramel Corn': 39, 'Chili Mango': 41, 'Chocolate Pudding': 29, 'Cinnamon': 26, 'Coconut': 25, 'Cotton Candy': 45, 'Crushed Pineapple': 30, 'Dr. Pepper': 32, 'French Vanilla': 43, 'Green Apple': 20, 'Island Punch': 33, 'Juicy Pear': 20, 'Kiwi': 41, 'Lemon Drop': 26, 'Lemon Lime': 48, 'Licorice': 50, 'Mango': 41, 'Margarita': 37, 'Mixed Berry Smoothie': 42, 'Orange Sherbet': 31, 'Peach': 47, 'Pina Colada': 46, 'Plum': 47, 'Pomegranate': 25, 'Raspberry': 45, 'Red Apple': 37, 'Sizzling Cinnamon': 48, 'Sour Cherry': 40, 'Strawberry Cheesecake': 21, 'Strawberry Daiquiri': 34, 'Strawberry Jam': 32, 'Sunkist Lemon': 20, 'Sunkist Lime': 20, 'Sunkist Orange': 40, 'Sunkist Pink Grapefruit': 32, 'Sunkist Tangerine': 49, 'Toasted Marshmallow': 34, 'Top Banana': 34, 'Tutti-Fruitti': 38, 'Very Cherry': 27, 'Watermelon': 38, 'Wild Blackberry': 31 }\n",
    "claraBeans = { 'A&W Cream Soda': 32, 'A&W Root Beer': 25, 'Berry Blue': 33, 'Blueberry': 27, 'Bubble Gum': 45, 'Buttered Popcorn': 46, 'Cantaloupe': 35, 'Cappuccino': 30, 'Caramel Corn': 43, 'Chili Mango': 40, 'Chocolate Pudding': 34, 'Cinnamon': 32, 'Coconut': 29, 'Cotton Candy': 42, 'Crushed Pineapple': 44, 'Dr. Pepper': 25, 'French Vanilla': 47, 'Green Apple': 45, 'Island Punch': 27, 'Juicy Pear': 30, 'Kiwi': 33, 'Lemon Drop': 21, 'Lemon Lime': 38, 'Licorice': 22, 'Mango': 29, 'Margarita': 27, 'Mixed Berry Smoothie': 48, 'Orange Sherbet': 21, 'Peach': 46, 'Pina Colada': 31, 'Plum': 47, 'Pomegranate': 46, 'Raspberry': 40, 'Red Apple': 32, 'Sizzling Cinnamon': 32, 'Sour Cherry': 28, 'Strawberry Cheesecake': 30, 'Strawberry Daiquiri': 31, 'Strawberry Jam': 47, 'Sunkist Lemon': 47, 'Sunkist Lime': 44, 'Sunkist Orange': 32, 'Sunkist Pink Grapefruit': 49, 'Sunkist Tangerine': 30, 'Toasted Marshmallow': 31, 'Top Banana': 41, 'Tutti-Fruitti': 49, 'Very Cherry': 40, 'Watermelon': 32, 'Wild Blackberry': 30 }\n",
    "beanBags['Alex'] = alexBeans\n",
    "beanBags['Ben'] = benBeans\n",
    "beanBags['Clara'] = claraBeans\n",
    "\n",
    "for key,value in beanBags.items():\n",
    "    print(\"The member's name is {}.\".format(key))\n",
    "    print(\"{}'s Jelly Bellies as a dictionary: {}\\n\".format(key,value))"
   ]
  },
  {
   "cell_type": "raw",
   "metadata": {},
   "source": [
    "Each member received a free, promotional (\"promo\") bag of Jelly Bellies.\n",
    "Each promo bag has exactly 200 beans, and each promo bag has the exact same flavors and flavor quantity of beans.\n",
    "Alex inventoried the flavors in the promo bag, listing each flavor separately. Below are the results."
   ]
  },
  {
   "cell_type": "code",
   "execution_count": 4,
   "metadata": {},
   "outputs": [],
   "source": [
    "promoBeans = ('French Vanilla', 'Green Apple', 'Cinnamon', 'Red Apple', 'Sunkist Lime', 'Licorice', 'Blueberry', 'Sunkist Lemon', 'Plum', 'Pina Colada', 'Bubble Gum', 'Strawberry Cheesecake', 'French Vanilla', 'Coconut', 'Licorice', 'Caramel Corn', 'Strawberry Cheesecake', 'Cinnamon', 'Cappuccino', 'Pina Colada', 'French Vanilla', 'Very Cherry', 'Lemon Drop', 'Blueberry', 'Dr. Pepper', 'Watermelon', 'Plum', 'Kiwi', 'Sizzling Cinnamon', 'Pina Colada', 'A&W Root Beer', 'Kiwi', 'A&W Cream Soda', 'Buttered Popcorn', 'Strawberry Cheesecake', 'Peach', 'Sunkist Lemon', 'Blueberry', 'Bubble Gum', 'Blueberry', 'Cinnamon', 'Cappuccino', 'Cotton Candy', 'Berry Blue', 'Tutti-Fruitti', 'Pomegranate', 'Toasted Marshmallow', 'Caramel Corn', 'Watermelon', 'Red Apple', 'Pomegranate', 'Cinnamon', 'Sunkist Lime', 'Cantaloupe', 'Margarita', 'Toasted Marshmallow', 'Sunkist Lime', 'Strawberry Daiquiri', 'Cappuccino', 'A&W Cream Soda', 'Juicy Pear', 'Green Apple', 'Strawberry Cheesecake', 'Red Apple', 'Mango', 'Chili Mango', 'Sizzling Cinnamon', 'Blueberry', 'Chili Mango', 'Plum', 'Cotton Candy', 'Cappuccino', 'Sizzling Cinnamon', 'Caramel Corn', 'Top Banana', 'Sunkist Lime', 'Buttered Popcorn', 'Pina Colada', 'Peach', 'Berry Blue', 'Sunkist Lime', 'Strawberry Jam', 'Berry Blue', 'Licorice', 'A&W Cream Soda', 'Strawberry Jam', 'Tutti-Fruitti', 'Peach', 'Coconut', 'Tutti-Fruitti', 'Mixed Berry Smoothie', 'Watermelon', 'Sunkist Pink Grapefruit', 'Licorice', 'Toasted Marshmallow', 'Coconut', 'Caramel Corn', 'Green Apple', 'Juicy Pear', 'Coconut', 'Island Punch', 'Sizzling Cinnamon', 'Caramel Corn', 'Cantaloupe', 'Berry Blue', 'Lemon Drop', 'Crushed Pineapple', 'Cotton Candy', 'Blueberry', 'Strawberry Daiquiri', 'Strawberry Jam', 'Lemon Drop', 'Caramel Corn', 'Licorice', 'Very Cherry', 'Raspberry', 'Toasted Marshmallow', 'Watermelon', 'Red Apple', 'Toasted Marshmallow', 'Sunkist Pink Grapefruit', 'Strawberry Daiquiri', 'Sour Cherry', 'Red Apple', 'Tutti-Fruitti', 'Mango', 'A&W Cream Soda', 'A&W Cream Soda', 'Dr. Pepper', 'Very Cherry', 'Toasted Marshmallow', 'Blueberry', 'Chocolate Pudding', 'Sunkist Lemon', 'Red Apple', 'A&W Cream Soda', 'Dr. Pepper', 'Pomegranate', 'Watermelon', 'Strawberry Jam', 'Sunkist Lime', 'Plum', 'Top Banana', 'Lemon Lime', 'Very Cherry', 'Wild Blackberry', 'Chocolate Pudding', 'Pomegranate', 'Peach', 'Bubble Gum', 'Coconut', 'Bubble Gum', 'Strawberry Jam', 'Cappuccino', 'Pina Colada', 'Strawberry Jam', 'Cantaloupe', 'Cotton Candy', 'French Vanilla', 'Sunkist Pink Grapefruit', 'Berry Blue', 'Raspberry', 'Berry Blue', 'Caramel Corn', 'A&W Root Beer', 'Kiwi', 'Pina Colada', 'Cotton Candy', 'Red Apple', 'A&W Cream Soda', 'Sizzling Cinnamon', 'Coconut', 'Wild Blackberry', 'A&W Cream Soda', 'Orange Sherbet', 'Sour Cherry', 'Watermelon', 'Caramel Corn', 'Orange Sherbet', 'Green Apple', 'Wild Blackberry', 'Bubble Gum', 'Sunkist Orange', 'Sunkist Pink Grapefruit', 'Tutti-Fruitti', 'Red Apple', 'Lemon Drop', 'Sizzling Cinnamon', 'Strawberry Cheesecake', 'Caramel Corn', 'Sunkist Pink Grapefruit', 'Lemon Lime', 'Green Apple', 'Buttered Popcorn', 'Lemon Lime', 'Juicy Pear', 'Plum', 'Watermelon', 'Sunkist Pink Grapefruit', 'Pomegranate')"
   ]
  },
  {
   "cell_type": "markdown",
   "metadata": {},
   "source": [
    "Adjust (increment) each member's bean totals based on their promo bag."
   ]
  },
  {
   "cell_type": "code",
   "execution_count": 5,
   "metadata": {
    "scrolled": true
   },
   "outputs": [],
   "source": [
    "for name in beanBags:\n",
    "    for flavor in promoBeans:\n",
    "        if flavor in beanBags[name]:\n",
    "            beanBags[name][flavor] = beanBags[name][flavor] + 1"
   ]
  },
  {
   "cell_type": "markdown",
   "metadata": {},
   "source": [
    "# statistical Analysis"
   ]
  },
  {
   "cell_type": "markdown",
   "metadata": {},
   "source": [
    "How many total Lemon Lime beans would the members have if they pooled all their beans together?"
   ]
  },
  {
   "cell_type": "code",
   "execution_count": 521,
   "metadata": {},
   "outputs": [
    {
     "name": "stdout",
     "output_type": "stream",
     "text": [
      "Total number of Lemon Lime beans is 137\n"
     ]
    }
   ],
   "source": [
    "LemonLimeEachMembers = []\n",
    "for name in beanBags:\n",
    "    LemonLimeEachMembers.append(beanBags[name][\"Lemon Lime\"])\n",
    "    \n",
    "totalLemonLimeAllMembers = sum(LemonLimeEachMembers)\n",
    "print(\"Total number of Lemon Lime beans is {}\".format(totalLemonLimeAllMembers))\n"
   ]
  },
  {
   "cell_type": "raw",
   "metadata": {},
   "source": [
    "If all the members pooled all their beans together, how many total beans would they have?"
   ]
  },
  {
   "cell_type": "code",
   "execution_count": 8,
   "metadata": {},
   "outputs": [
    {
     "name": "stdout",
     "output_type": "stream",
     "text": [
      "5848\n"
     ]
    }
   ],
   "source": [
    "totalBeansAllMembers = 0\n",
    "for beans in beanBags.values():\n",
    "    totalBeansAllMembers = totalBeansAllMembers + sum(beans.values())\n",
    "print(totalBeansAllMembers)"
   ]
  },
  {
   "cell_type": "markdown",
   "metadata": {},
   "source": [
    "Create a table showing the counts of each bean flavor for each of the members."
   ]
  },
  {
   "cell_type": "code",
   "execution_count": 531,
   "metadata": {},
   "outputs": [
    {
     "name": "stdout",
     "output_type": "stream",
     "text": [
      "+-------------------------+------+-----+-------+\n",
      "|         Flavor          | Alex | Ben | Clara |\n",
      "+-------------------------+------+-----+-------+\n",
      "|     A&W Cream Soda      |  32  | 54  |  40   |\n",
      "+-------------------------+------+-----+-------+\n",
      "|      A&W Root Beer      |  27  | 35  |  52   |\n",
      "+-------------------------+------+-----+-------+\n",
      "|       Berry Blue        |  55  | 30  |  39   |\n",
      "+-------------------------+------+-----+-------+\n",
      "|        Blueberry        |  32  | 51  |  34   |\n",
      "+-------------------------+------+-----+-------+\n",
      "|       Bubble Gum        |  42  | 51  |  50   |\n",
      "+-------------------------+------+-----+-------+\n",
      "|    Buttered Popcorn     |  30  | 41  |  49   |\n",
      "+-------------------------+------+-----+-------+\n",
      "|       Cantaloupe        |  28  | 51  |  38   |\n",
      "+-------------------------+------+-----+-------+\n",
      "|       Cappuccino        |  41  | 51  |  35   |\n",
      "+-------------------------+------+-----+-------+\n",
      "|      Caramel Corn       |  45  | 48  |  52   |\n",
      "+-------------------------+------+-----+-------+\n",
      "|       Chili Mango       |  31  | 43  |  42   |\n",
      "+-------------------------+------+-----+-------+\n",
      "|    Chocolate Pudding    |  76  | 31  |  11   |\n",
      "+-------------------------+------+-----+-------+\n",
      "|        Cinnamon         |  27  | 30  |  36   |\n",
      "+-------------------------+------+-----+-------+\n",
      "|         Coconut         |  33  | 31  |  35   |\n",
      "+-------------------------+------+-----+-------+\n",
      "|      Cotton Candy       |  30  | 50  |  47   |\n",
      "+-------------------------+------+-----+-------+\n",
      "|    Crushed Pineapple    |  22  | 31  |  45   |\n",
      "+-------------------------+------+-----+-------+\n",
      "|       Dr. Pepper        |  24  | 35  |  28   |\n",
      "+-------------------------+------+-----+-------+\n",
      "|     French Vanilla      |  42  | 47  |  51   |\n",
      "+-------------------------+------+-----+-------+\n",
      "|       Green Apple       |  41  | 25  |  50   |\n",
      "+-------------------------+------+-----+-------+\n",
      "|      Island Punch       |  32  | 34  |  28   |\n",
      "+-------------------------+------+-----+-------+\n",
      "|       Juicy Pear        |  43  | 23  |  33   |\n",
      "+-------------------------+------+-----+-------+\n",
      "|          Kiwi           |  41  | 44  |  36   |\n",
      "+-------------------------+------+-----+-------+\n",
      "|       Lemon Drop        |  31  | 30  |  25   |\n",
      "+-------------------------+------+-----+-------+\n",
      "|       Lemon Lime        |  45  | 51  |  41   |\n",
      "+-------------------------+------+-----+-------+\n",
      "|        Licorice         |  35  | 55  |  27   |\n",
      "+-------------------------+------+-----+-------+\n",
      "|          Mango          |  43  | 43  |  31   |\n",
      "+-------------------------+------+-----+-------+\n",
      "|        Margarita        |  48  | 33  |  28   |\n",
      "+-------------------------+------+-----+-------+\n",
      "|  Mixed Berry Smoothie   |  25  | 43  |  49   |\n",
      "+-------------------------+------+-----+-------+\n",
      "|     Orange Sherbet      |  22  | 33  |  23   |\n",
      "+-------------------------+------+-----+-------+\n",
      "|          Peach          |  47  | 51  |  50   |\n",
      "+-------------------------+------+-----+-------+\n",
      "|       Pina Colada       |  34  | 57  |  37   |\n",
      "+-------------------------+------+-----+-------+\n",
      "|          Plum           |  25  | 52  |  52   |\n",
      "+-------------------------+------+-----+-------+\n",
      "|       Pomegranate       |  40  | 30  |  51   |\n",
      "+-------------------------+------+-----+-------+\n",
      "|        Raspberry        |  43  | 47  |  42   |\n",
      "+-------------------------+------+-----+-------+\n",
      "|        Red Apple        |  53  | 45  |  40   |\n",
      "+-------------------------+------+-----+-------+\n",
      "|    Sizzling Cinnamon    |  35  | 54  |  38   |\n",
      "+-------------------------+------+-----+-------+\n",
      "|       Sour Cherry       |  50  | 42  |  30   |\n",
      "+-------------------------+------+-----+-------+\n",
      "|  Strawberry Cheesecake  |  45  | 26  |  35   |\n",
      "+-------------------------+------+-----+-------+\n",
      "|   Strawberry Daiquiri   |  26  | 37  |  34   |\n",
      "+-------------------------+------+-----+-------+\n",
      "|     Strawberry Jam      |  48  | 38  |  53   |\n",
      "+-------------------------+------+-----+-------+\n",
      "|      Sunkist Lemon      |  47  | 23  |  50   |\n",
      "+-------------------------+------+-----+-------+\n",
      "|      Sunkist Lime       |  32  | 26  |  50   |\n",
      "+-------------------------+------+-----+-------+\n",
      "|     Sunkist Orange      |  46  | 41  |  33   |\n",
      "+-------------------------+------+-----+-------+\n",
      "| Sunkist Pink Grapefruit |  33  | 38  |  55   |\n",
      "+-------------------------+------+-----+-------+\n",
      "|    Sunkist Tangerine    |  22  | 49  |  30   |\n",
      "+-------------------------+------+-----+-------+\n",
      "|   Toasted Marshmallow   |  48  | 40  |  37   |\n",
      "+-------------------------+------+-----+-------+\n",
      "|       Top Banana        |  24  | 36  |  43   |\n",
      "+-------------------------+------+-----+-------+\n",
      "|      Tutti-Fruitti      |  35  | 43  |  54   |\n",
      "+-------------------------+------+-----+-------+\n",
      "|       Very Cherry       |  32  | 31  |  44   |\n",
      "+-------------------------+------+-----+-------+\n",
      "|       Watermelon        |  40  | 45  |  39   |\n",
      "+-------------------------+------+-----+-------+\n",
      "|     Wild Blackberry     |  26  | 34  |  33   |\n",
      "+-------------------------+------+-----+-------+\n"
     ]
    }
   ],
   "source": [
    "from beautifultable import BeautifulTable\n",
    "table = BeautifulTable()\n",
    "for flavor in flavors:\n",
    "    adding = []\n",
    "    adding.append(flavor)\n",
    "    for memberName in beanBags:\n",
    "        adding.append(beanBags[memberName][flavor])\n",
    "    table.rows.append(adding)\n",
    "table.columns.header = [\"Flavor\", \"Alex\", \"Ben\", \"Clara\"]\n",
    "print(table)\n",
    "        "
   ]
  },
  {
   "cell_type": "markdown",
   "metadata": {},
   "source": [
    "# In-Depth Data Analysis"
   ]
  },
  {
   "cell_type": "markdown",
   "metadata": {},
   "source": [
    "## Data processing\n",
    "\n",
    "Fans of Jelly Bellies like to combine beans to form more complicated, unique flavors, such as \"Apple Pie\" and \"Banana Split\".\n",
    "\n",
    "These combinations are called \"recipes\" because they often combine multiple beans as \"ingredients\" to form a well-known food flavor."
   ]
  },
  {
   "cell_type": "code",
   "execution_count": 12,
   "metadata": {},
   "outputs": [
    {
     "name": "stdout",
     "output_type": "stream",
     "text": [
      "{'Cola': {'Lemon Lime': 1, 'Cinnamon': 1}, 'Apple Pie': {'Green Apple': 2, 'Cinnamon': 1}, 'Key Lime Pie': {'Lemon Lime': 1, 'Toasted Marshmallow': 1}, 'Pink Lemonade': {'Cotton Candy': 2, 'Sunkist Lemon': 2}, 'Root Beer Float': {'A&W Root Beer': 2, 'A&W Cream Soda': 1}, 'Cafe Mocha': {'Cappuccino': 2, 'Chocolate Pudding': 1, 'French Vanilla': 1}, 'Hot Chocolate': {'Toasted Marshmallow': 1, 'Chocolate Pudding': 1}, 'Chocolate-Dipped Strawberries': {'Strawberry Daiquiri': 2, 'Chocolate Pudding': 1}, \"S'mores\": {'Caramel Corn': 1, 'Toasted Marshmallow': 2, 'Chocolate Pudding': 1}, 'Banana Split': {'Top Banana': 1, 'Chocolate Pudding': 1, 'Crushed Pineapple': 1, 'Strawberry Jam': 1, 'Very Cherry': 1, 'French Vanilla': 1}}\n"
     ]
    }
   ],
   "source": [
    "recipes = {}\n",
    "recipes[\"Cola\"] = { \"Lemon Lime\": 1, \"Cinnamon\": 1 }\n",
    "recipes[\"Apple Pie\"] = {\"Green Apple\" : 2, \"Cinnamon\" : 1}\n",
    "recipes[\"Key Lime Pie\"] = {\"Lemon Lime\" : 1, \"Toasted Marshmallow\" : 1}\n",
    "recipes[\"Pink Lemonade\"] = {\"Cotton Candy\" : 2, \"Sunkist Lemon\" : 2}\n",
    "recipes[\"Root Beer Float\"] = {\"A&W Root Beer\" : 2, \"A&W Cream Soda\" : 1}\n",
    "recipes[\"Cafe Mocha\"] = {\"Cappuccino\" : 2, \"Chocolate Pudding\" : 1, \"French Vanilla\" : 1}\n",
    "recipes[\"Hot Chocolate\"] = {\"Toasted Marshmallow\" : 1,  \"Chocolate Pudding\" : 1}\n",
    "recipes[\"Chocolate-Dipped Strawberries\"] = {\"Strawberry Daiquiri\" : 2,  \"Chocolate Pudding\" : 1}\n",
    "recipes[\"S'mores\"] = {\"Caramel Corn\" : 1, \"Toasted Marshmallow\" : 2, \"Chocolate Pudding\" : 1}\n",
    "recipes[\"Banana Split\"] = {\"Top Banana\" : 1, \"Chocolate Pudding\" : 1, \"Crushed Pineapple\"  : 1, \"Strawberry Jam\" : 1, \"Very Cherry\" : 1, \n",
    "                          \"French Vanilla\" : 1}\n",
    "print(recipes)"
   ]
  },
  {
   "cell_type": "markdown",
   "metadata": {},
   "source": [
    "Create a list called `recipeNamesInOrder` to hold the names of these recipes in the order.\n",
    "1. Key Lime Pie\n",
    "2. Apple Pie\n",
    "3. Cafe Mocha\n",
    "4. Cola\n",
    "5. Hot Chocolate\n",
    "6. Chocolate-Dipped Strawberries\n",
    "7. Pink Lemonade\n",
    "8. Root Beer Float\n",
    "9. Banana Split\n",
    "10. S'mores"
   ]
  },
  {
   "cell_type": "code",
   "execution_count": 13,
   "metadata": {},
   "outputs": [],
   "source": [
    "recipeNamesInOrder = [\"Key Lime Pie\", \"Apple Pie\", \"Cafe Mocha\", \"Cola\", \"Hot Chocolate\", \"Chocolate-Dipped Strawberries\", \"Pink Lemonade\",\n",
    "                      \"Root Beer Float\", \"Banana Split\", \"S'mores\"]\n",
    "                      \n"
   ]
  },
  {
   "cell_type": "markdown",
   "metadata": {},
   "source": [
    "Create a complex data structure (a dictionary of dictionaries) to store the number of recipes that each member makes.\n",
    "\n",
    "- Create a dictionary called `recipeCounts`.\n",
    "- Use a combination of loops and existing variables (`memberNames`, `recipeNamesInOrder`, etc.) to dynamically create a dictionary of dictionaries where:\n",
    "    - The keys for the outer dictionary are the member names.\n",
    "    - The keys for the inner dictionary are the recipe names.\n",
    "    - The value for each member and each recipe is initialized to an integer value of zero (0).\n",
    "- Output `recipeCounts` to the screen to verify the data structure, keys, and values."
   ]
  },
  {
   "cell_type": "code",
   "execution_count": 14,
   "metadata": {},
   "outputs": [
    {
     "name": "stdout",
     "output_type": "stream",
     "text": [
      "{'Alex': {'Key Lime Pie': 0, 'Apple Pie': 0, 'Cafe Mocha': 0, 'Cola': 0, 'Hot Chocolate': 0, 'Chocolate-Dipped Strawberries': 0, 'Pink Lemonade': 0, 'Root Beer Float': 0, 'Banana Split': 0, \"S'mores\": 0}, 'Ben': {'Key Lime Pie': 0, 'Apple Pie': 0, 'Cafe Mocha': 0, 'Cola': 0, 'Hot Chocolate': 0, 'Chocolate-Dipped Strawberries': 0, 'Pink Lemonade': 0, 'Root Beer Float': 0, 'Banana Split': 0, \"S'mores\": 0}, 'Clara': {'Key Lime Pie': 0, 'Apple Pie': 0, 'Cafe Mocha': 0, 'Cola': 0, 'Hot Chocolate': 0, 'Chocolate-Dipped Strawberries': 0, 'Pink Lemonade': 0, 'Root Beer Float': 0, 'Banana Split': 0, \"S'mores\": 0}}\n"
     ]
    }
   ],
   "source": [
    "recipeCounts = {}\n",
    "for memberName in beanBags:\n",
    "    recipeCounts[memberName] = {}\n",
    "    for recipeName in recipeNamesInOrder:\n",
    "        recipeCounts[memberName][recipeName] = 0\n",
    "print(recipeCounts)"
   ]
  },
  {
   "cell_type": "markdown",
   "metadata": {},
   "source": [
    "## Data Analysis"
   ]
  },
  {
   "cell_type": "markdown",
   "metadata": {},
   "source": [
    "Letting members \"make\" the recipes and \"eat\" the beans, dynamically.\n",
    "\n",
    "Algorithm:\n",
    "- Iterate over each member\n",
    "- The current member tries to make each recipe, one at a time, in the order specified in `recipeNamesInOrder`.\n",
    "- Each recipe will require the exact ingredient flavors and quantity of beans.\n",
    "- Check if the recipe can be made before the member eats the beans.\n",
    "- If the recipe cannot be made, the member moves on to the next recipe.\n",
    "- Otherwise (if the recipe can be made):\n",
    "    - The recipe count is incremented by 1 for that recipe and that member, and\n",
    "    - The member eats the recipe (all the recipe's beans), so\n",
    "    - The program adjusts (subtracts) the flavor totals in the member's bag of beans accordingly.  You can't reuse an eaten bean!\n",
    "- After the last recipe in the order specified in `recipeNamesInOrder`, if the member has made at least one recipe successfully (any recipe), then repeat the order again from the beginning.\n",
    "- Otherwise (if the member went through the entire order without being able to make a single recipe), then:\n",
    "    - Stop making recipes (because this member cannot make any more recipes of any kind), and\n",
    "    - Move on to the next member (until there are no more members).\n",
    "- When finished, output `recipeCounts` to the screen to verify the data structure, keys, and values."
   ]
  },
  {
   "cell_type": "code",
   "execution_count": 15,
   "metadata": {},
   "outputs": [
    {
     "name": "stdout",
     "output_type": "stream",
     "text": [
      "{'Alex': {'Key Lime Pie': 18, 'Apple Pie': 14, 'Cafe Mocha': 11, 'Cola': 13, 'Hot Chocolate': 10, 'Chocolate-Dipped Strawberries': 10, 'Pink Lemonade': 15, 'Root Beer Float': 26, 'Banana Split': 10, \"S'mores\": 10}, 'Ben': {'Key Lime Pie': 22, 'Apple Pie': 12, 'Cafe Mocha': 7, 'Cola': 18, 'Hot Chocolate': 6, 'Chocolate-Dipped Strawberries': 6, 'Pink Lemonade': 11, 'Root Beer Float': 17, 'Banana Split': 6, \"S'mores\": 6}, 'Clara': {'Key Lime Pie': 16, 'Apple Pie': 18, 'Cafe Mocha': 8, 'Cola': 18, 'Hot Chocolate': 7, 'Chocolate-Dipped Strawberries': 7, 'Pink Lemonade': 23, 'Root Beer Float': 13, 'Banana Split': 7, \"S'mores\": 7}}\n"
     ]
    }
   ],
   "source": [
    "for memberName in beanBags:\n",
    "    made_a_recipe = True\n",
    "    while made_a_recipe:\n",
    "        made_a_recipe = False\n",
    "        for recipeName in recipeNamesInOrder:\n",
    "            recipe = recipes[recipeName] \n",
    "            ingredient_check = []\n",
    "            \n",
    "            for ingredientName in recipe:\n",
    "                if beanBags[memberName].get(ingredientName, 0) < recipe[ingredientName]:\n",
    "                    ingredient_check.append(False)\n",
    "                else:\n",
    "                    ingredient_check.append(True)\n",
    "                    \n",
    "            if False not in ingredient_check:\n",
    "                for ingredientName in recipe:\n",
    "                    beanBags[memberName][ingredientName] = beanBags[memberName][ingredientName] - recipe[ingredientName]\n",
    "                recipeCounts[memberName][recipeName] = recipeCounts[memberName][recipeName] + 1\n",
    "                made_a_recipe = True\n",
    "        if not made_a_recipe:\n",
    "            break\n",
    "print(recipeCounts)"
   ]
  },
  {
   "cell_type": "markdown",
   "metadata": {},
   "source": [
    "## Data Visualization\n",
    "Create a table showing the counts of each recipe made by each of the Jelly Belly Fan Club members."
   ]
  },
  {
   "cell_type": "code",
   "execution_count": 16,
   "metadata": {},
   "outputs": [
    {
     "name": "stdout",
     "output_type": "stream",
     "text": [
      "+-------------------------------+------+-----+-------+\n",
      "|            Recipe             | Alex | Ben | Clara |\n",
      "+-------------------------------+------+-----+-------+\n",
      "|         Key Lime Pie          |  18  | 22  |  16   |\n",
      "+-------------------------------+------+-----+-------+\n",
      "|           Apple Pie           |  14  | 12  |  18   |\n",
      "+-------------------------------+------+-----+-------+\n",
      "|          Cafe Mocha           |  11  |  7  |   8   |\n",
      "+-------------------------------+------+-----+-------+\n",
      "|             Cola              |  13  | 18  |  18   |\n",
      "+-------------------------------+------+-----+-------+\n",
      "|         Hot Chocolate         |  10  |  6  |   7   |\n",
      "+-------------------------------+------+-----+-------+\n",
      "| Chocolate-Dipped Strawberries |  10  |  6  |   7   |\n",
      "+-------------------------------+------+-----+-------+\n",
      "|         Pink Lemonade         |  15  | 11  |  23   |\n",
      "+-------------------------------+------+-----+-------+\n",
      "|        Root Beer Float        |  26  | 17  |  13   |\n",
      "+-------------------------------+------+-----+-------+\n",
      "|         Banana Split          |  10  |  6  |   7   |\n",
      "+-------------------------------+------+-----+-------+\n",
      "|            S'mores            |  10  |  6  |   7   |\n",
      "+-------------------------------+------+-----+-------+\n"
     ]
    }
   ],
   "source": [
    "from beautifultable import BeautifulTable\n",
    "table = BeautifulTable()\n",
    "\n",
    "TotalRecipe = []\n",
    "for recipe in recipeNamesInOrder:\n",
    "    EachRecipe = [recipe]\n",
    "    for memberName in recipeCounts:\n",
    "        EachRecipe.append(recipeCounts[memberName][recipe])\n",
    "    TotalRecipe.append(EachRecipe)\n",
    "\n",
    "for list in TotalRecipe:\n",
    "    table.rows.append(list)\n",
    "    \n",
    "table.columns.header = [\"Recipe\", \"Alex\", \"Ben\", \"Clara\"]\n",
    "print(table)\n"
   ]
  }
 ],
 "metadata": {
  "kernelspec": {
   "display_name": "Python 3 (ipykernel)",
   "language": "python",
   "name": "python3"
  },
  "language_info": {
   "codemirror_mode": {
    "name": "ipython",
    "version": 3
   },
   "file_extension": ".py",
   "mimetype": "text/x-python",
   "name": "python",
   "nbconvert_exporter": "python",
   "pygments_lexer": "ipython3",
   "version": "3.9.13"
  }
 },
 "nbformat": 4,
 "nbformat_minor": 2
}
