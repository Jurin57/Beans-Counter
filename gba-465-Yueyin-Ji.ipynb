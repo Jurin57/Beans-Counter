{
 "cells": [
  {
   "cell_type": "markdown",
   "metadata": {},
   "source": [
    "# GBA 465 Assignment 4 - Jelly Bellies (Starter) - Updated\n"
   ]
  },
  {
   "cell_type": "markdown",
   "metadata": {},
   "source": [
    "- Part A - The Jelly Belly Flavors (5 Points)\n",
    "- Part B - The Jelly Belly Fan Club Members (5 Points)\n",
    "- Part C - The Bean Bags (10 Points)\n",
    "- Part D - The Promo Beans (5 Points)\n",
    "- Part E - All The Beans (5 Points)\n",
    "- Part F - The Trades (10 Points)\n",
    "- Part G - The Recipes (10 Points)\n",
    "- Part H - Initializing Recipe Counts (10 Points)\n",
    "- Part I - Making Recipes (20 Points)\n",
    "- Part J - Display Recipe Counts (10 Points)\n",
    "- Part K - The Final Results (10 Points)\n",
    "\n",
    "\n",
    "- Deductions for incorrect results or for using Python techniques not covered in Class 08 and prior.\n",
    "- No pseudocode/comments are needed."
   ]
  },
  {
   "cell_type": "markdown",
   "metadata": {},
   "source": [
    "## Part A - The Jelly Belly Flavors\n",
    "Below is a `list` of popular Jelly Belly `flavors`.\n",
    "\n",
    "**Action:** Execute the following code block."
   ]
  },
  {
   "cell_type": "code",
   "execution_count": 511,
   "metadata": {},
   "outputs": [],
   "source": [
    "flavors = [ \"Coconut\", \"Strawberry Cheesecake\", \"Green Apple\", \"Licorice\", \"Kiwi\", \"Berry Blue\", \"Dr. Pepper\", \"Sunkist Orange\", \"Chili Mango\", \"Pomegranate\", \"Sunkist Lime\", \"Caramel Corn\", \"Cappuccino\", \"French Vanilla\", \"Red Apple\", \"Very Cherry\", \"Buttered Popcorn\", \"Lemon Drop\", \"Orange Sherbet\", \"Tutti-Fruitti\", \"Sunkist Lemon\", \"Sunkist Tangerine\", \"Strawberry Daiquiri\", \"Plum\", \"Sizzling Cinnamon\", \"Margarita\", \"A&W Cream Soda\", \"Cotton Candy\", \"Island Punch\", \"Raspberry\", \"Strawberry Jam\", \"Bubble Gum\", \"Lemon Lime\", \"Top Banana\", \"Cinnamon\", \"Peach\", \"Crushed Pineapple\", \"Watermelon\", \"A&W Root Beer\", \"Blueberry\", \"Sunkist Pink Grapefruit\", \"Mango\", \"Pina Colada\", \"Juicy Pear\", \"Mixed Berry Smoothie\", \"Toasted Marshmallow\", \"Chocolate Pudding\", \"Wild Blackberry\", \"Sour Cherry\", \"Cantaloupe\" ]"
   ]
  },
  {
   "cell_type": "markdown",
   "metadata": {},
   "source": [
    "**Actions:**\n",
    "\n",
    "- Sort `flavors` alphabetically by name.\n",
    "- Convert the sorted list `flavors` into a tuple.\n",
    "- Reassign the `tuple` back into the `flavors` variable.\n",
    "- Using a `while` loop along with a counter variable, output each flavor in `flavors` out on a separate line, along with a one-based count.  Example:\n",
    "\n",
    "```\n",
    "1. A&W Cream Soda\n",
    "2. A&W Root Beer\n",
    "...\n",
    "49. Watermelon\n",
    "50. Wild Blackberry\n",
    "```"
   ]
  },
  {
   "cell_type": "code",
   "execution_count": 512,
   "metadata": {},
   "outputs": [
    {
     "name": "stdout",
     "output_type": "stream",
     "text": [
      "1. A&W Cream Soda\n",
      "2. A&W Root Beer\n",
      "3. Berry Blue\n",
      "4. Blueberry\n",
      "5. Bubble Gum\n",
      "6. Buttered Popcorn\n",
      "7. Cantaloupe\n",
      "8. Cappuccino\n",
      "9. Caramel Corn\n",
      "10. Chili Mango\n",
      "11. Chocolate Pudding\n",
      "12. Cinnamon\n",
      "13. Coconut\n",
      "14. Cotton Candy\n",
      "15. Crushed Pineapple\n",
      "16. Dr. Pepper\n",
      "17. French Vanilla\n",
      "18. Green Apple\n",
      "19. Island Punch\n",
      "20. Juicy Pear\n",
      "21. Kiwi\n",
      "22. Lemon Drop\n",
      "23. Lemon Lime\n",
      "24. Licorice\n",
      "25. Mango\n",
      "26. Margarita\n",
      "27. Mixed Berry Smoothie\n",
      "28. Orange Sherbet\n",
      "29. Peach\n",
      "30. Pina Colada\n",
      "31. Plum\n",
      "32. Pomegranate\n",
      "33. Raspberry\n",
      "34. Red Apple\n",
      "35. Sizzling Cinnamon\n",
      "36. Sour Cherry\n",
      "37. Strawberry Cheesecake\n",
      "38. Strawberry Daiquiri\n",
      "39. Strawberry Jam\n",
      "40. Sunkist Lemon\n",
      "41. Sunkist Lime\n",
      "42. Sunkist Orange\n",
      "43. Sunkist Pink Grapefruit\n",
      "44. Sunkist Tangerine\n",
      "45. Toasted Marshmallow\n",
      "46. Top Banana\n",
      "47. Tutti-Fruitti\n",
      "48. Very Cherry\n",
      "49. Watermelon\n",
      "50. Wild Blackberry\n"
     ]
    }
   ],
   "source": [
    "# Your Part A implementation:\n",
    "flavors = tuple(sorted(flavors))\n",
    "counter = 0\n",
    "while counter < len(flavors):\n",
    "    print(\"{}. {}\".format(counter+1, flavors[counter]))\n",
    "    counter = counter + 1\n"
   ]
  },
  {
   "cell_type": "markdown",
   "metadata": {},
   "source": [
    "## Part B - The Jelly Belly Fan Club Members\n",
    "\n",
    "There are three University of Rochester students in local chapter of the Jelly Belly Fan Club: Clara, Ben, and Alex.\n",
    "\n",
    "They love Jelly Bellies!\n",
    "\n",
    "**Actions:**\n",
    "- Create a `list` named `memberNames` which contains the names \"Clara\", \"Ben\", and \"Alex\", in that order.\n",
    "- Sort `memberNames` alphabetically by name.\n",
    "- Convert the sorted list `memberNames` into a `tuple`.\n",
    "- Reassign the `tuple` back into the `memberNames` variable.\n",
    "- Using a `for` loop, print each name in `memberNames` out on a separate line."
   ]
  },
  {
   "cell_type": "code",
   "execution_count": 513,
   "metadata": {},
   "outputs": [
    {
     "name": "stdout",
     "output_type": "stream",
     "text": [
      "Alex\n",
      "Ben\n",
      "Clara\n"
     ]
    }
   ],
   "source": [
    "# Your Part B implementation: \n",
    "memberNames = (\"Clara\", \"Ben\", \"Alex\")\n",
    "memberNames = tuple(sorted(memberNames))\n",
    "for member in memberNames:\n",
    "    print(member)\n"
   ]
  },
  {
   "cell_type": "markdown",
   "metadata": {},
   "source": [
    "## Part C - The Bean Bags\n",
    "\n",
    "As a club event, the Jelly Belly Fan Club Members went to store, where each member bought an oversized bag of assorted Jelly Belly jelly beans.\n",
    "\n",
    "Jelly Belly corporate quality control tells us that each bag contains between 20-50 beans for each flavor in `flavors`.\n",
    "\n",
    "That's a lot of beans in each bag!"
   ]
  },
  {
   "cell_type": "markdown",
   "metadata": {},
   "source": [
    "**Action:** Create a blank `dictionary` called `beanBags` that will hold all the contents of each bag."
   ]
  },
  {
   "cell_type": "code",
   "execution_count": 514,
   "metadata": {},
   "outputs": [],
   "source": [
    "# Your implementation:\n",
    "beanBags = {}\n"
   ]
  },
  {
   "cell_type": "markdown",
   "metadata": {},
   "source": [
    "The members returned to their club room to sort and count their beans by flavor.\n",
    "\n",
    "Below are the results.\n",
    "\n",
    "**Action:** Execute the following code block."
   ]
  },
  {
   "cell_type": "code",
   "execution_count": 515,
   "metadata": {},
   "outputs": [],
   "source": [
    "alexBeans = { 'A&W Cream Soda': 24, 'A&W Root Beer': 50, 'Berry Blue': 49, 'Blueberry': 25, 'Bubble Gum': 37, 'Buttered Popcorn': 27, 'Cantaloupe': 25, 'Cappuccino': 36, 'Caramel Corn': 36, 'Chili Mango': 29, 'Chocolate Pudding': 49, 'Cinnamon': 23, 'Coconut': 27, 'Cotton Candy': 25, 'Crushed Pineapple': 21, 'Dr. Pepper': 21, 'French Vanilla': 38, 'Green Apple': 36, 'Island Punch': 31, 'Juicy Pear': 40, 'Kiwi': 38, 'Lemon Drop': 27, 'Lemon Lime': 42, 'Licorice': 30, 'Mango': 41, 'Margarita': 42, 'Mixed Berry Smoothie': 24, 'Orange Sherbet': 20, 'Peach': 43, 'Pina Colada': 33, 'Plum': 20, 'Pomegranate': 35, 'Raspberry': 41, 'Red Apple': 45, 'Sizzling Cinnamon': 29, 'Sour Cherry': 48, 'Strawberry Cheesecake': 40, 'Strawberry Daiquiri': 23, 'Strawberry Jam': 42, 'Sunkist Lemon': 44, 'Sunkist Lime': 26, 'Sunkist Orange': 45, 'Sunkist Pink Grapefruit': 27, 'Sunkist Tangerine': 22, 'Toasted Marshmallow': 42, 'Top Banana': 22, 'Tutti-Fruitti': 30, 'Very Cherry': 28, 'Watermelon': 33, 'Wild Blackberry': 23 }\n",
    "benBeans = { 'A&W Cream Soda': 46, 'A&W Root Beer': 33, 'Berry Blue': 24, 'Blueberry': 44, 'Bubble Gum': 46, 'Buttered Popcorn': 38, 'Cantaloupe': 48, 'Cappuccino': 46, 'Caramel Corn': 39, 'Chili Mango': 41, 'Chocolate Pudding': 29, 'Cinnamon': 26, 'Coconut': 25, 'Cotton Candy': 45, 'Crushed Pineapple': 30, 'Dr. Pepper': 32, 'French Vanilla': 43, 'Green Apple': 20, 'Island Punch': 33, 'Juicy Pear': 20, 'Kiwi': 41, 'Lemon Drop': 26, 'Lemon Lime': 48, 'Licorice': 50, 'Mango': 41, 'Margarita': 37, 'Mixed Berry Smoothie': 42, 'Orange Sherbet': 31, 'Peach': 47, 'Pina Colada': 46, 'Plum': 47, 'Pomegranate': 25, 'Raspberry': 45, 'Red Apple': 37, 'Sizzling Cinnamon': 48, 'Sour Cherry': 40, 'Strawberry Cheesecake': 21, 'Strawberry Daiquiri': 34, 'Strawberry Jam': 32, 'Sunkist Lemon': 20, 'Sunkist Lime': 20, 'Sunkist Orange': 40, 'Sunkist Pink Grapefruit': 32, 'Sunkist Tangerine': 49, 'Toasted Marshmallow': 34, 'Top Banana': 34, 'Tutti-Fruitti': 38, 'Very Cherry': 27, 'Watermelon': 38, 'Wild Blackberry': 31 }\n",
    "claraBeans = { 'A&W Cream Soda': 32, 'A&W Root Beer': 25, 'Berry Blue': 33, 'Blueberry': 27, 'Bubble Gum': 45, 'Buttered Popcorn': 46, 'Cantaloupe': 35, 'Cappuccino': 30, 'Caramel Corn': 43, 'Chili Mango': 40, 'Chocolate Pudding': 34, 'Cinnamon': 32, 'Coconut': 29, 'Cotton Candy': 42, 'Crushed Pineapple': 44, 'Dr. Pepper': 25, 'French Vanilla': 47, 'Green Apple': 45, 'Island Punch': 27, 'Juicy Pear': 30, 'Kiwi': 33, 'Lemon Drop': 21, 'Lemon Lime': 38, 'Licorice': 22, 'Mango': 29, 'Margarita': 27, 'Mixed Berry Smoothie': 48, 'Orange Sherbet': 21, 'Peach': 46, 'Pina Colada': 31, 'Plum': 47, 'Pomegranate': 46, 'Raspberry': 40, 'Red Apple': 32, 'Sizzling Cinnamon': 32, 'Sour Cherry': 28, 'Strawberry Cheesecake': 30, 'Strawberry Daiquiri': 31, 'Strawberry Jam': 47, 'Sunkist Lemon': 47, 'Sunkist Lime': 44, 'Sunkist Orange': 32, 'Sunkist Pink Grapefruit': 49, 'Sunkist Tangerine': 30, 'Toasted Marshmallow': 31, 'Top Banana': 41, 'Tutti-Fruitti': 49, 'Very Cherry': 40, 'Watermelon': 32, 'Wild Blackberry': 30 }"
   ]
  },
  {
   "cell_type": "markdown",
   "metadata": {},
   "source": [
    "**Actions:**\n",
    "\n",
    "- Add Alex's Jelly Belly counts from `alexBeans` to the `beanBags` dictionary, using `Alex` as the key.\n",
    "- Add Ben's Jelly Belly counts from `benBeans` to the `beanBags` dictionary, using `Ben` as the key.\n",
    "- Add Clara's Jelly Belly counts from `claraBeans` to the `beanBags` dictionary, using `Clara` as the key.\n",
    "- From the `beanBags` dictionary, use a `for` loop with both `key` and a `value` iterator variables.\n",
    "- For each member:\n",
    "    1. Print the key (the member's name)\n",
    "    2. Print the value (the member's Jelly Bellies as a dictionary)"
   ]
  },
  {
   "cell_type": "code",
   "execution_count": 516,
   "metadata": {},
   "outputs": [
    {
     "name": "stdout",
     "output_type": "stream",
     "text": [
      "The member's name is Alex.\n",
      "Alex's Jelly Bellies as a dictionary: {'A&W Cream Soda': 24, 'A&W Root Beer': 50, 'Berry Blue': 49, 'Blueberry': 25, 'Bubble Gum': 37, 'Buttered Popcorn': 27, 'Cantaloupe': 25, 'Cappuccino': 36, 'Caramel Corn': 36, 'Chili Mango': 29, 'Chocolate Pudding': 49, 'Cinnamon': 23, 'Coconut': 27, 'Cotton Candy': 25, 'Crushed Pineapple': 21, 'Dr. Pepper': 21, 'French Vanilla': 38, 'Green Apple': 36, 'Island Punch': 31, 'Juicy Pear': 40, 'Kiwi': 38, 'Lemon Drop': 27, 'Lemon Lime': 42, 'Licorice': 30, 'Mango': 41, 'Margarita': 42, 'Mixed Berry Smoothie': 24, 'Orange Sherbet': 20, 'Peach': 43, 'Pina Colada': 33, 'Plum': 20, 'Pomegranate': 35, 'Raspberry': 41, 'Red Apple': 45, 'Sizzling Cinnamon': 29, 'Sour Cherry': 48, 'Strawberry Cheesecake': 40, 'Strawberry Daiquiri': 23, 'Strawberry Jam': 42, 'Sunkist Lemon': 44, 'Sunkist Lime': 26, 'Sunkist Orange': 45, 'Sunkist Pink Grapefruit': 27, 'Sunkist Tangerine': 22, 'Toasted Marshmallow': 42, 'Top Banana': 22, 'Tutti-Fruitti': 30, 'Very Cherry': 28, 'Watermelon': 33, 'Wild Blackberry': 23}\n",
      "\n",
      "The member's name is Ben.\n",
      "Ben's Jelly Bellies as a dictionary: {'A&W Cream Soda': 46, 'A&W Root Beer': 33, 'Berry Blue': 24, 'Blueberry': 44, 'Bubble Gum': 46, 'Buttered Popcorn': 38, 'Cantaloupe': 48, 'Cappuccino': 46, 'Caramel Corn': 39, 'Chili Mango': 41, 'Chocolate Pudding': 29, 'Cinnamon': 26, 'Coconut': 25, 'Cotton Candy': 45, 'Crushed Pineapple': 30, 'Dr. Pepper': 32, 'French Vanilla': 43, 'Green Apple': 20, 'Island Punch': 33, 'Juicy Pear': 20, 'Kiwi': 41, 'Lemon Drop': 26, 'Lemon Lime': 48, 'Licorice': 50, 'Mango': 41, 'Margarita': 37, 'Mixed Berry Smoothie': 42, 'Orange Sherbet': 31, 'Peach': 47, 'Pina Colada': 46, 'Plum': 47, 'Pomegranate': 25, 'Raspberry': 45, 'Red Apple': 37, 'Sizzling Cinnamon': 48, 'Sour Cherry': 40, 'Strawberry Cheesecake': 21, 'Strawberry Daiquiri': 34, 'Strawberry Jam': 32, 'Sunkist Lemon': 20, 'Sunkist Lime': 20, 'Sunkist Orange': 40, 'Sunkist Pink Grapefruit': 32, 'Sunkist Tangerine': 49, 'Toasted Marshmallow': 34, 'Top Banana': 34, 'Tutti-Fruitti': 38, 'Very Cherry': 27, 'Watermelon': 38, 'Wild Blackberry': 31}\n",
      "\n",
      "The member's name is Clara.\n",
      "Clara's Jelly Bellies as a dictionary: {'A&W Cream Soda': 32, 'A&W Root Beer': 25, 'Berry Blue': 33, 'Blueberry': 27, 'Bubble Gum': 45, 'Buttered Popcorn': 46, 'Cantaloupe': 35, 'Cappuccino': 30, 'Caramel Corn': 43, 'Chili Mango': 40, 'Chocolate Pudding': 34, 'Cinnamon': 32, 'Coconut': 29, 'Cotton Candy': 42, 'Crushed Pineapple': 44, 'Dr. Pepper': 25, 'French Vanilla': 47, 'Green Apple': 45, 'Island Punch': 27, 'Juicy Pear': 30, 'Kiwi': 33, 'Lemon Drop': 21, 'Lemon Lime': 38, 'Licorice': 22, 'Mango': 29, 'Margarita': 27, 'Mixed Berry Smoothie': 48, 'Orange Sherbet': 21, 'Peach': 46, 'Pina Colada': 31, 'Plum': 47, 'Pomegranate': 46, 'Raspberry': 40, 'Red Apple': 32, 'Sizzling Cinnamon': 32, 'Sour Cherry': 28, 'Strawberry Cheesecake': 30, 'Strawberry Daiquiri': 31, 'Strawberry Jam': 47, 'Sunkist Lemon': 47, 'Sunkist Lime': 44, 'Sunkist Orange': 32, 'Sunkist Pink Grapefruit': 49, 'Sunkist Tangerine': 30, 'Toasted Marshmallow': 31, 'Top Banana': 41, 'Tutti-Fruitti': 49, 'Very Cherry': 40, 'Watermelon': 32, 'Wild Blackberry': 30}\n",
      "\n"
     ]
    }
   ],
   "source": [
    "# Your implementation:\n",
    "beanBags['Alex'] = alexBeans\n",
    "beanBags['Ben'] = benBeans\n",
    "beanBags['Clara'] = claraBeans\n",
    "\n",
    "for key,value in beanBags.items():\n",
    "    print(\"The member's name is {}.\".format(key))\n",
    "    print(\"{}'s Jelly Bellies as a dictionary: {}\\n\".format(key,value))\n",
    "    \n"
   ]
  },
  {
   "cell_type": "markdown",
   "metadata": {},
   "source": [
    "**Action:** \n",
    "\n",
    "- Access and print out the following values:\n",
    "\n",
    "    1. How many \"Bubble Gum\" beans does Alex have?\n",
    "    2. How many *more* \"Watermelon\" beans does Ben have compared to Clara?\n",
    "    3. How many \"Mixed Berry Smoothie\" beans does Clara have?"
   ]
  },
  {
   "cell_type": "code",
   "execution_count": 517,
   "metadata": {},
   "outputs": [
    {
     "name": "stdout",
     "output_type": "stream",
     "text": [
      "Alex has 37 number of Bubble Gum beans.\n",
      "Ben has 6 more Watermelon beans than Clara.\n",
      "Clara has 48 number of Mixed Berry Smoothie beans.\n"
     ]
    }
   ],
   "source": [
    "# Your implementation:\n",
    "num_BG = beanBags['Alex']['Bubble Gum']\n",
    "print(\"Alex has {} number of Bubble Gum beans.\".format(num_BG))\n",
    "\n",
    "num_more_W = beanBags['Ben']['Watermelon'] - beanBags['Clara']['Watermelon']\n",
    "print(\"Ben has {} more Watermelon beans than Clara.\".format(num_more_W))\n",
    "\n",
    "num_MBS = beanBags['Clara']['Mixed Berry Smoothie']\n",
    "print(\"Clara has {} number of Mixed Berry Smoothie beans.\".format(num_MBS))"
   ]
  },
  {
   "cell_type": "markdown",
   "metadata": {},
   "source": [
    "## Part D - The Promo Beans\n",
    "\n",
    "When checking out at the store, each member received a free, promotional (\"promo\") bag of Jelly Bellies.\n",
    "\n",
    "Each promo bag has exactly 200 beans, and each promo bag has the exact same flavors and flavor quantity of beans.\n",
    "\n",
    "Alex inventoried the flavors in the promo bag, listing each flavor separately.  Below are the results.\n",
    "\n",
    "**Action:** Execute the following code block."
   ]
  },
  {
   "cell_type": "code",
   "execution_count": 518,
   "metadata": {},
   "outputs": [],
   "source": [
    "promoBeans = ('French Vanilla', 'Green Apple', 'Cinnamon', 'Red Apple', 'Sunkist Lime', 'Licorice', 'Blueberry', 'Sunkist Lemon', 'Plum', 'Pina Colada', 'Bubble Gum', 'Strawberry Cheesecake', 'French Vanilla', 'Coconut', 'Licorice', 'Caramel Corn', 'Strawberry Cheesecake', 'Cinnamon', 'Cappuccino', 'Pina Colada', 'French Vanilla', 'Very Cherry', 'Lemon Drop', 'Blueberry', 'Dr. Pepper', 'Watermelon', 'Plum', 'Kiwi', 'Sizzling Cinnamon', 'Pina Colada', 'A&W Root Beer', 'Kiwi', 'A&W Cream Soda', 'Buttered Popcorn', 'Strawberry Cheesecake', 'Peach', 'Sunkist Lemon', 'Blueberry', 'Bubble Gum', 'Blueberry', 'Cinnamon', 'Cappuccino', 'Cotton Candy', 'Berry Blue', 'Tutti-Fruitti', 'Pomegranate', 'Toasted Marshmallow', 'Caramel Corn', 'Watermelon', 'Red Apple', 'Pomegranate', 'Cinnamon', 'Sunkist Lime', 'Cantaloupe', 'Margarita', 'Toasted Marshmallow', 'Sunkist Lime', 'Strawberry Daiquiri', 'Cappuccino', 'A&W Cream Soda', 'Juicy Pear', 'Green Apple', 'Strawberry Cheesecake', 'Red Apple', 'Mango', 'Chili Mango', 'Sizzling Cinnamon', 'Blueberry', 'Chili Mango', 'Plum', 'Cotton Candy', 'Cappuccino', 'Sizzling Cinnamon', 'Caramel Corn', 'Top Banana', 'Sunkist Lime', 'Buttered Popcorn', 'Pina Colada', 'Peach', 'Berry Blue', 'Sunkist Lime', 'Strawberry Jam', 'Berry Blue', 'Licorice', 'A&W Cream Soda', 'Strawberry Jam', 'Tutti-Fruitti', 'Peach', 'Coconut', 'Tutti-Fruitti', 'Mixed Berry Smoothie', 'Watermelon', 'Sunkist Pink Grapefruit', 'Licorice', 'Toasted Marshmallow', 'Coconut', 'Caramel Corn', 'Green Apple', 'Juicy Pear', 'Coconut', 'Island Punch', 'Sizzling Cinnamon', 'Caramel Corn', 'Cantaloupe', 'Berry Blue', 'Lemon Drop', 'Crushed Pineapple', 'Cotton Candy', 'Blueberry', 'Strawberry Daiquiri', 'Strawberry Jam', 'Lemon Drop', 'Caramel Corn', 'Licorice', 'Very Cherry', 'Raspberry', 'Toasted Marshmallow', 'Watermelon', 'Red Apple', 'Toasted Marshmallow', 'Sunkist Pink Grapefruit', 'Strawberry Daiquiri', 'Sour Cherry', 'Red Apple', 'Tutti-Fruitti', 'Mango', 'A&W Cream Soda', 'A&W Cream Soda', 'Dr. Pepper', 'Very Cherry', 'Toasted Marshmallow', 'Blueberry', 'Chocolate Pudding', 'Sunkist Lemon', 'Red Apple', 'A&W Cream Soda', 'Dr. Pepper', 'Pomegranate', 'Watermelon', 'Strawberry Jam', 'Sunkist Lime', 'Plum', 'Top Banana', 'Lemon Lime', 'Very Cherry', 'Wild Blackberry', 'Chocolate Pudding', 'Pomegranate', 'Peach', 'Bubble Gum', 'Coconut', 'Bubble Gum', 'Strawberry Jam', 'Cappuccino', 'Pina Colada', 'Strawberry Jam', 'Cantaloupe', 'Cotton Candy', 'French Vanilla', 'Sunkist Pink Grapefruit', 'Berry Blue', 'Raspberry', 'Berry Blue', 'Caramel Corn', 'A&W Root Beer', 'Kiwi', 'Pina Colada', 'Cotton Candy', 'Red Apple', 'A&W Cream Soda', 'Sizzling Cinnamon', 'Coconut', 'Wild Blackberry', 'A&W Cream Soda', 'Orange Sherbet', 'Sour Cherry', 'Watermelon', 'Caramel Corn', 'Orange Sherbet', 'Green Apple', 'Wild Blackberry', 'Bubble Gum', 'Sunkist Orange', 'Sunkist Pink Grapefruit', 'Tutti-Fruitti', 'Red Apple', 'Lemon Drop', 'Sizzling Cinnamon', 'Strawberry Cheesecake', 'Caramel Corn', 'Sunkist Pink Grapefruit', 'Lemon Lime', 'Green Apple', 'Buttered Popcorn', 'Lemon Lime', 'Juicy Pear', 'Plum', 'Watermelon', 'Sunkist Pink Grapefruit', 'Pomegranate')"
   ]
  },
  {
   "cell_type": "markdown",
   "metadata": {},
   "source": [
    "**Action:** Adjust (increment) each member's bean totals based on their promo bag.\n",
    "\n",
    "Notes/Hints on your adjustment algorithm:\n",
    "- Each item/flavor in the `promoBeans` tuple represents one(1) bean of that flavor.\n",
    "- You may want to use a nested `for` loop.\n",
    "- The first/outer `for` loop iterates over the memberNames.\n",
    "- The second/inner `for` loop iterates over the promoBeans.\n",
    "- Inside the inner loop, add one(1) bean to the current flavor total for the current member."
   ]
  },
  {
   "cell_type": "code",
   "execution_count": 519,
   "metadata": {
    "scrolled": true
   },
   "outputs": [
    {
     "data": {
      "text/plain": [
       "{'Alex': {'A&W Cream Soda': 32,\n",
       "  'A&W Root Beer': 52,\n",
       "  'Berry Blue': 55,\n",
       "  'Blueberry': 32,\n",
       "  'Bubble Gum': 42,\n",
       "  'Buttered Popcorn': 30,\n",
       "  'Cantaloupe': 28,\n",
       "  'Cappuccino': 41,\n",
       "  'Caramel Corn': 45,\n",
       "  'Chili Mango': 31,\n",
       "  'Chocolate Pudding': 51,\n",
       "  'Cinnamon': 27,\n",
       "  'Coconut': 33,\n",
       "  'Cotton Candy': 30,\n",
       "  'Crushed Pineapple': 22,\n",
       "  'Dr. Pepper': 24,\n",
       "  'French Vanilla': 42,\n",
       "  'Green Apple': 41,\n",
       "  'Island Punch': 32,\n",
       "  'Juicy Pear': 43,\n",
       "  'Kiwi': 41,\n",
       "  'Lemon Drop': 31,\n",
       "  'Lemon Lime': 45,\n",
       "  'Licorice': 35,\n",
       "  'Mango': 43,\n",
       "  'Margarita': 43,\n",
       "  'Mixed Berry Smoothie': 25,\n",
       "  'Orange Sherbet': 22,\n",
       "  'Peach': 47,\n",
       "  'Pina Colada': 39,\n",
       "  'Plum': 25,\n",
       "  'Pomegranate': 40,\n",
       "  'Raspberry': 43,\n",
       "  'Red Apple': 53,\n",
       "  'Sizzling Cinnamon': 35,\n",
       "  'Sour Cherry': 50,\n",
       "  'Strawberry Cheesecake': 45,\n",
       "  'Strawberry Daiquiri': 26,\n",
       "  'Strawberry Jam': 48,\n",
       "  'Sunkist Lemon': 47,\n",
       "  'Sunkist Lime': 32,\n",
       "  'Sunkist Orange': 46,\n",
       "  'Sunkist Pink Grapefruit': 33,\n",
       "  'Sunkist Tangerine': 22,\n",
       "  'Toasted Marshmallow': 48,\n",
       "  'Top Banana': 24,\n",
       "  'Tutti-Fruitti': 35,\n",
       "  'Very Cherry': 32,\n",
       "  'Watermelon': 40,\n",
       "  'Wild Blackberry': 26},\n",
       " 'Ben': {'A&W Cream Soda': 54,\n",
       "  'A&W Root Beer': 35,\n",
       "  'Berry Blue': 30,\n",
       "  'Blueberry': 51,\n",
       "  'Bubble Gum': 51,\n",
       "  'Buttered Popcorn': 41,\n",
       "  'Cantaloupe': 51,\n",
       "  'Cappuccino': 51,\n",
       "  'Caramel Corn': 48,\n",
       "  'Chili Mango': 43,\n",
       "  'Chocolate Pudding': 31,\n",
       "  'Cinnamon': 30,\n",
       "  'Coconut': 31,\n",
       "  'Cotton Candy': 50,\n",
       "  'Crushed Pineapple': 31,\n",
       "  'Dr. Pepper': 35,\n",
       "  'French Vanilla': 47,\n",
       "  'Green Apple': 25,\n",
       "  'Island Punch': 34,\n",
       "  'Juicy Pear': 23,\n",
       "  'Kiwi': 44,\n",
       "  'Lemon Drop': 30,\n",
       "  'Lemon Lime': 51,\n",
       "  'Licorice': 55,\n",
       "  'Mango': 43,\n",
       "  'Margarita': 38,\n",
       "  'Mixed Berry Smoothie': 43,\n",
       "  'Orange Sherbet': 33,\n",
       "  'Peach': 51,\n",
       "  'Pina Colada': 52,\n",
       "  'Plum': 52,\n",
       "  'Pomegranate': 30,\n",
       "  'Raspberry': 47,\n",
       "  'Red Apple': 45,\n",
       "  'Sizzling Cinnamon': 54,\n",
       "  'Sour Cherry': 42,\n",
       "  'Strawberry Cheesecake': 26,\n",
       "  'Strawberry Daiquiri': 37,\n",
       "  'Strawberry Jam': 38,\n",
       "  'Sunkist Lemon': 23,\n",
       "  'Sunkist Lime': 26,\n",
       "  'Sunkist Orange': 41,\n",
       "  'Sunkist Pink Grapefruit': 38,\n",
       "  'Sunkist Tangerine': 49,\n",
       "  'Toasted Marshmallow': 40,\n",
       "  'Top Banana': 36,\n",
       "  'Tutti-Fruitti': 43,\n",
       "  'Very Cherry': 31,\n",
       "  'Watermelon': 45,\n",
       "  'Wild Blackberry': 34},\n",
       " 'Clara': {'A&W Cream Soda': 40,\n",
       "  'A&W Root Beer': 27,\n",
       "  'Berry Blue': 39,\n",
       "  'Blueberry': 34,\n",
       "  'Bubble Gum': 50,\n",
       "  'Buttered Popcorn': 49,\n",
       "  'Cantaloupe': 38,\n",
       "  'Cappuccino': 35,\n",
       "  'Caramel Corn': 52,\n",
       "  'Chili Mango': 42,\n",
       "  'Chocolate Pudding': 36,\n",
       "  'Cinnamon': 36,\n",
       "  'Coconut': 35,\n",
       "  'Cotton Candy': 47,\n",
       "  'Crushed Pineapple': 45,\n",
       "  'Dr. Pepper': 28,\n",
       "  'French Vanilla': 51,\n",
       "  'Green Apple': 50,\n",
       "  'Island Punch': 28,\n",
       "  'Juicy Pear': 33,\n",
       "  'Kiwi': 36,\n",
       "  'Lemon Drop': 25,\n",
       "  'Lemon Lime': 41,\n",
       "  'Licorice': 27,\n",
       "  'Mango': 31,\n",
       "  'Margarita': 28,\n",
       "  'Mixed Berry Smoothie': 49,\n",
       "  'Orange Sherbet': 23,\n",
       "  'Peach': 50,\n",
       "  'Pina Colada': 37,\n",
       "  'Plum': 52,\n",
       "  'Pomegranate': 51,\n",
       "  'Raspberry': 42,\n",
       "  'Red Apple': 40,\n",
       "  'Sizzling Cinnamon': 38,\n",
       "  'Sour Cherry': 30,\n",
       "  'Strawberry Cheesecake': 35,\n",
       "  'Strawberry Daiquiri': 34,\n",
       "  'Strawberry Jam': 53,\n",
       "  'Sunkist Lemon': 50,\n",
       "  'Sunkist Lime': 50,\n",
       "  'Sunkist Orange': 33,\n",
       "  'Sunkist Pink Grapefruit': 55,\n",
       "  'Sunkist Tangerine': 30,\n",
       "  'Toasted Marshmallow': 37,\n",
       "  'Top Banana': 43,\n",
       "  'Tutti-Fruitti': 54,\n",
       "  'Very Cherry': 44,\n",
       "  'Watermelon': 39,\n",
       "  'Wild Blackberry': 33}}"
      ]
     },
     "execution_count": 519,
     "metadata": {},
     "output_type": "execute_result"
    }
   ],
   "source": [
    "# Your implementation:\n",
    "for name in beanBags:\n",
    "    for flavor in promoBeans:\n",
    "        if flavor in beanBags[name]:\n",
    "            beanBags[name][flavor] = beanBags[name][flavor] + 1\n",
    "beanBags"
   ]
  },
  {
   "cell_type": "markdown",
   "metadata": {},
   "source": [
    "**Actions:**\n",
    "\n",
    "- Access and print out the following values:\n",
    "\n",
    "    1. Now, how many \"Bubble Gum\" beans does Alex have?\n",
    "    2. Now, how many *more* \"Watermelon\" beans does Ben have compared to Clara?\n",
    "    3. Now, how many \"Mixed Berry Smoothie\" beans does Clara have?"
   ]
  },
  {
   "cell_type": "code",
   "execution_count": 520,
   "metadata": {},
   "outputs": [
    {
     "name": "stdout",
     "output_type": "stream",
     "text": [
      "Alex has 42 number of Bubble Gum beans.\n",
      "Ben has 6 more Watermelon beans than Clara.\n",
      "Clara has 49 number of Mixed Berry Smoothie beans.\n"
     ]
    }
   ],
   "source": [
    "# Your implementation:\n",
    "num_BG = beanBags['Alex']['Bubble Gum']\n",
    "print(\"Alex has {} number of Bubble Gum beans.\".format(num_BG))\n",
    "\n",
    "num_more_W = beanBags['Ben']['Watermelon'] - beanBags['Clara']['Watermelon']\n",
    "print(\"Ben has {} more Watermelon beans than Clara.\".format(num_more_W))\n",
    "\n",
    "num_MBS = beanBags['Clara']['Mixed Berry Smoothie']\n",
    "print(\"Clara has {} number of Mixed Berry Smoothie beans.\".format(num_MBS))\n"
   ]
  },
  {
   "cell_type": "markdown",
   "metadata": {},
   "source": [
    "## Part E - All The Beans\n",
    "**Actions:**\n",
    "\n",
    "- Using a `for` loop and the `memberNames` list, how many total Lemon Lime beans would the members have if they pooled all their beans together?\n",
    "- **Do not** reference \"Alex\", \"Ben\", or \"Clara\" as a hard-coded string.  There is a more dynamic way to do this using the loop.\n",
    "- You may use a hard-coded string for \"Lemon Lime\".\n",
    "- Store the result in a variable called `totalLemonLimeAllMembers`.\n",
    "- Output `totalLemonLimeAllMembers` to the screen."
   ]
  },
  {
   "cell_type": "code",
   "execution_count": 521,
   "metadata": {},
   "outputs": [
    {
     "name": "stdout",
     "output_type": "stream",
     "text": [
      "Total number of Lemon Lime beans is 137\n"
     ]
    }
   ],
   "source": [
    "# Your implementation:\n",
    "LemonLimeEachMembers = []\n",
    "\n",
    "for name in beanBags:\n",
    "    LemonLimeEachMembers.append(beanBags[name][\"Lemon Lime\"])\n",
    "    \n",
    "totalLemonLimeAllMembers = sum(LemonLimeEachMembers)\n",
    "print(\"Total number of Lemon Lime beans is {}\".format(totalLemonLimeAllMembers))\n"
   ]
  },
  {
   "cell_type": "markdown",
   "metadata": {},
   "source": [
    "**Action:** If all the members pooled **all** their beans together, how many total beans would they have?\n",
    "\n",
    "- Use a nested `for` loop.\n",
    "- **Do not** reference any member name or flavor with a hard-coded string.\n",
    "- Store your result in `totalBeansAllMembers`.\n",
    "- Output `totalBeansAllMembers` to the screen."
   ]
  },
  {
   "cell_type": "code",
   "execution_count": 522,
   "metadata": {},
   "outputs": [
    {
     "name": "stdout",
     "output_type": "stream",
     "text": [
      "Total number of beans is 5848\n",
      "Total number of beans is 5848\n"
     ]
    }
   ],
   "source": [
    "# Your implementation:\n",
    "TotalEachMembers1 = []\n",
    "for memberName,memberValue in beanBags.items():\n",
    "    for beanName,beanValue in memberValue.items():\n",
    "        TotalEachMembers1.append(beanValue)\n",
    "totalBeansAllMembers1 = sum(TotalEachMembers1)\n",
    "print(\"Total number of beans is {}\".format(totalBeansAllMembers1))\n",
    "\n",
    "TotalEachMembers2 = []\n",
    "for beans in beanBags.values():\n",
    "    for beanName, beanNumber in beans.items():\n",
    "        TotalEachMembers2.append(beanNumber)\n",
    "totalBeansAllMembers2 = sum(TotalEachMembers2)\n",
    "print(\"Total number of beans is {}\".format(totalBeansAllMembers2))        "
   ]
  },
  {
   "cell_type": "code",
   "execution_count": 523,
   "metadata": {},
   "outputs": [
    {
     "name": "stdout",
     "output_type": "stream",
     "text": [
      "5848\n"
     ]
    }
   ],
   "source": [
    "totalBeansAllMembers3 = 0\n",
    "for beans in beanBags.values():\n",
    "    totalBeansAllMembers3 = totalBeansAllMembers3 + sum(beans.values())\n",
    "print(totalBeansAllMembers3)"
   ]
  },
  {
   "cell_type": "markdown",
   "metadata": {},
   "source": [
    "## Part F - The Trades\n",
    "\n",
    "Alex and Ben like to trade Jelly Bellies so each gets more of their favorite flavors.\n",
    "\n",
    "### The First Trade\n",
    "\n",
    "Alex gives Ben five(5) of his \"Pina Colada\" beans in exchange for five(5) of Ben's \"Margarita\" beans.\n",
    "\n",
    "This is an even trade!\n",
    "\n",
    "**Action:** Adjust the values for both Alex's and Ben's beans due to this trade.\n",
    "\n",
    "- Note: You may use hard-coded string values for list, tuple, or dictionary access."
   ]
  },
  {
   "cell_type": "code",
   "execution_count": 524,
   "metadata": {},
   "outputs": [],
   "source": [
    "# Your implementation:\n",
    "beanBags['Alex']['Pina Colada'] = beanBags['Alex']['Pina Colada'] - 5\n",
    "beanBags['Alex']['Margarita'] = beanBags['Alex']['Margarita'] + 5\n",
    "beanBags['Ben']['Margarita'] = beanBags['Ben']['Margarita'] -5\n",
    "beanBags['Ben']['Pina Colada'] = beanBags['Ben']['Pina Colada'] + 5\n"
   ]
  },
  {
   "cell_type": "markdown",
   "metadata": {},
   "source": [
    "### The Second Trade\n",
    "Clara also wants to make a trade and get more of her favorite flavors!\n",
    "\n",
    "Clara and Alex swap all their \"A&W Root Beer\" beans.\n",
    "\n",
    "Since Alex has a lot more \"A&W Root Beer\" beans than Clara, to make the trade fair, Clara also gives Alex twenty-five (25) of her \"Chocolate Pudding\" beans.\n",
    "\n",
    "**Action:** Adjust the values for both Clara's and Alex's beans due to this trade.\n",
    "\n",
    "- Note: You may use hard-coded string values for list, tuple, or dictionary access."
   ]
  },
  {
   "cell_type": "code",
   "execution_count": 525,
   "metadata": {},
   "outputs": [],
   "source": [
    "# Your implementation:\n",
    "ClaraBeans = beanBags['Clara'][ \"A&W Root Beer\"] \n",
    "AlexBeans = beanBags['Alex'][ \"A&W Root Beer\"] \n",
    "beanBags['Clara'][ \"A&W Root Beer\"] = AlexBeans\n",
    "beanBags['Alex'][ \"A&W Root Beer\"] = ClaraBeans\n",
    "\n",
    "beanBags['Clara']['Chocolate Pudding'] = beanBags['Clara']['Chocolate Pudding'] - 25\n",
    "beanBags['Alex']['Chocolate Pudding'] = beanBags['Alex']['Chocolate Pudding'] + 25\n",
    "\n"
   ]
  },
  {
   "cell_type": "markdown",
   "metadata": {},
   "source": [
    "### Check on Alex's Beans Post-Trades\n",
    "**Action:** Now that the trades are over, calculate the total number of beans that Alex has in his bag.\n",
    "\n",
    "- Store the value in `totalBeansAlex`.\n",
    "- Output `totalBeansAlex` to the screen.\n",
    "- Note: You may use hard-coded string values for list, tuple, or dictionary access."
   ]
  },
  {
   "cell_type": "code",
   "execution_count": 526,
   "metadata": {},
   "outputs": [
    {
     "name": "stdout",
     "output_type": "stream",
     "text": [
      "{'Alex': {'A&W Cream Soda': 32, 'A&W Root Beer': 27, 'Berry Blue': 55, 'Blueberry': 32, 'Bubble Gum': 42, 'Buttered Popcorn': 30, 'Cantaloupe': 28, 'Cappuccino': 41, 'Caramel Corn': 45, 'Chili Mango': 31, 'Chocolate Pudding': 76, 'Cinnamon': 27, 'Coconut': 33, 'Cotton Candy': 30, 'Crushed Pineapple': 22, 'Dr. Pepper': 24, 'French Vanilla': 42, 'Green Apple': 41, 'Island Punch': 32, 'Juicy Pear': 43, 'Kiwi': 41, 'Lemon Drop': 31, 'Lemon Lime': 45, 'Licorice': 35, 'Mango': 43, 'Margarita': 48, 'Mixed Berry Smoothie': 25, 'Orange Sherbet': 22, 'Peach': 47, 'Pina Colada': 34, 'Plum': 25, 'Pomegranate': 40, 'Raspberry': 43, 'Red Apple': 53, 'Sizzling Cinnamon': 35, 'Sour Cherry': 50, 'Strawberry Cheesecake': 45, 'Strawberry Daiquiri': 26, 'Strawberry Jam': 48, 'Sunkist Lemon': 47, 'Sunkist Lime': 32, 'Sunkist Orange': 46, 'Sunkist Pink Grapefruit': 33, 'Sunkist Tangerine': 22, 'Toasted Marshmallow': 48, 'Top Banana': 24, 'Tutti-Fruitti': 35, 'Very Cherry': 32, 'Watermelon': 40, 'Wild Blackberry': 26}, 'Ben': {'A&W Cream Soda': 54, 'A&W Root Beer': 35, 'Berry Blue': 30, 'Blueberry': 51, 'Bubble Gum': 51, 'Buttered Popcorn': 41, 'Cantaloupe': 51, 'Cappuccino': 51, 'Caramel Corn': 48, 'Chili Mango': 43, 'Chocolate Pudding': 31, 'Cinnamon': 30, 'Coconut': 31, 'Cotton Candy': 50, 'Crushed Pineapple': 31, 'Dr. Pepper': 35, 'French Vanilla': 47, 'Green Apple': 25, 'Island Punch': 34, 'Juicy Pear': 23, 'Kiwi': 44, 'Lemon Drop': 30, 'Lemon Lime': 51, 'Licorice': 55, 'Mango': 43, 'Margarita': 33, 'Mixed Berry Smoothie': 43, 'Orange Sherbet': 33, 'Peach': 51, 'Pina Colada': 57, 'Plum': 52, 'Pomegranate': 30, 'Raspberry': 47, 'Red Apple': 45, 'Sizzling Cinnamon': 54, 'Sour Cherry': 42, 'Strawberry Cheesecake': 26, 'Strawberry Daiquiri': 37, 'Strawberry Jam': 38, 'Sunkist Lemon': 23, 'Sunkist Lime': 26, 'Sunkist Orange': 41, 'Sunkist Pink Grapefruit': 38, 'Sunkist Tangerine': 49, 'Toasted Marshmallow': 40, 'Top Banana': 36, 'Tutti-Fruitti': 43, 'Very Cherry': 31, 'Watermelon': 45, 'Wild Blackberry': 34}, 'Clara': {'A&W Cream Soda': 40, 'A&W Root Beer': 52, 'Berry Blue': 39, 'Blueberry': 34, 'Bubble Gum': 50, 'Buttered Popcorn': 49, 'Cantaloupe': 38, 'Cappuccino': 35, 'Caramel Corn': 52, 'Chili Mango': 42, 'Chocolate Pudding': 11, 'Cinnamon': 36, 'Coconut': 35, 'Cotton Candy': 47, 'Crushed Pineapple': 45, 'Dr. Pepper': 28, 'French Vanilla': 51, 'Green Apple': 50, 'Island Punch': 28, 'Juicy Pear': 33, 'Kiwi': 36, 'Lemon Drop': 25, 'Lemon Lime': 41, 'Licorice': 27, 'Mango': 31, 'Margarita': 28, 'Mixed Berry Smoothie': 49, 'Orange Sherbet': 23, 'Peach': 50, 'Pina Colada': 37, 'Plum': 52, 'Pomegranate': 51, 'Raspberry': 42, 'Red Apple': 40, 'Sizzling Cinnamon': 38, 'Sour Cherry': 30, 'Strawberry Cheesecake': 35, 'Strawberry Daiquiri': 34, 'Strawberry Jam': 53, 'Sunkist Lemon': 50, 'Sunkist Lime': 50, 'Sunkist Orange': 33, 'Sunkist Pink Grapefruit': 55, 'Sunkist Tangerine': 30, 'Toasted Marshmallow': 37, 'Top Banana': 43, 'Tutti-Fruitti': 54, 'Very Cherry': 44, 'Watermelon': 39, 'Wild Blackberry': 33}}\n"
     ]
    }
   ],
   "source": [
    "print(beanBags)"
   ]
  },
  {
   "cell_type": "code",
   "execution_count": 527,
   "metadata": {},
   "outputs": [
    {
     "name": "stdout",
     "output_type": "stream",
     "text": [
      "[32, 27, 55, 32, 42, 30, 28, 41, 45, 31, 76, 27, 33, 30, 22, 24, 42, 41, 32, 43, 41, 31, 45, 35, 43, 48, 25, 22, 47, 34, 25, 40, 43, 53, 35, 50, 45, 26, 48, 47, 32, 46, 33, 22, 48, 24, 35, 32, 40, 26]\n",
      "Total number of Alex's beans is 1854\n"
     ]
    }
   ],
   "source": [
    "# Your implementation:\n",
    "numBeansAlex = []\n",
    "for bean,number in beanBags['Alex'].items():\n",
    "    numBeansAlex.append(number)\n",
    "print(numBeansAlex)\n",
    "totalBeansAlex = sum(numBeansAlex)\n",
    "print(\"Total number of Alex's beans is {}\".format(totalBeansAlex))\n"
   ]
  },
  {
   "cell_type": "code",
   "execution_count": 528,
   "metadata": {},
   "outputs": [
    {
     "name": "stdout",
     "output_type": "stream",
     "text": [
      "[32, 27, 55, 32, 42, 30, 28, 41, 45, 31, 76, 27, 33, 30, 22, 24, 42, 41, 32, 43, 41, 31, 45, 35, 43, 48, 25, 22, 47, 34, 25, 40, 43, 53, 35, 50, 45, 26, 48, 47, 32, 46, 33, 22, 48, 24, 35, 32, 40, 26]\n",
      "Total number of Alex's beans is 1854\n"
     ]
    }
   ],
   "source": [
    "numBeansAlex = []\n",
    "totalBeansAlex1 = 0\n",
    "for beans in beanBags['Alex'].values():\n",
    "    totalBeansAlex1 = totalBeansAlex1 + beans\n",
    "    numBeansAlex.append(beans)\n",
    "print(numBeansAlex)\n",
    "print(\"Total number of Alex's beans is {}\".format(totalBeansAlex1))"
   ]
  },
  {
   "cell_type": "markdown",
   "metadata": {},
   "source": [
    "### Display Final Bean Totals\n",
    "\n",
    "**Action:** Create a table showing the counts of each bean flavor for each of the Jelly Belly Fan Club members.\n",
    "\n",
    "- Use the beautifultable Python package to achieve column-based layout.\n",
    "- Column 1: Flavor (display the flavor name of the bean)\n",
    "- Column 2: Alex (display the number of beans of this flavor belonging to Alex)\n",
    "- Column 3: Ben (display the number of beans of this flavor belonging to Ben)\n",
    "- Column 4: Clara (display the number of beans of this flavor belonging to Clara)\n",
    "- Do not use hard-coded strings for flavor names.\n",
    "- Do not use hard-coded strings for member names."
   ]
  },
  {
   "cell_type": "code",
   "execution_count": 529,
   "metadata": {},
   "outputs": [
    {
     "name": "stdout",
     "output_type": "stream",
     "text": [
      "('A&W Cream Soda', 'A&W Root Beer', 'Berry Blue', 'Blueberry', 'Bubble Gum', 'Buttered Popcorn', 'Cantaloupe', 'Cappuccino', 'Caramel Corn', 'Chili Mango', 'Chocolate Pudding', 'Cinnamon', 'Coconut', 'Cotton Candy', 'Crushed Pineapple', 'Dr. Pepper', 'French Vanilla', 'Green Apple', 'Island Punch', 'Juicy Pear', 'Kiwi', 'Lemon Drop', 'Lemon Lime', 'Licorice', 'Mango', 'Margarita', 'Mixed Berry Smoothie', 'Orange Sherbet', 'Peach', 'Pina Colada', 'Plum', 'Pomegranate', 'Raspberry', 'Red Apple', 'Sizzling Cinnamon', 'Sour Cherry', 'Strawberry Cheesecake', 'Strawberry Daiquiri', 'Strawberry Jam', 'Sunkist Lemon', 'Sunkist Lime', 'Sunkist Orange', 'Sunkist Pink Grapefruit', 'Sunkist Tangerine', 'Toasted Marshmallow', 'Top Banana', 'Tutti-Fruitti', 'Very Cherry', 'Watermelon', 'Wild Blackberry')\n"
     ]
    }
   ],
   "source": [
    "print(flavors)"
   ]
  },
  {
   "cell_type": "code",
   "execution_count": 530,
   "metadata": {},
   "outputs": [
    {
     "name": "stdout",
     "output_type": "stream",
     "text": [
      "[['A&W Cream Soda', 32, 54, 40], ['A&W Root Beer', 27, 35, 52], ['Berry Blue', 55, 30, 39], ['Blueberry', 32, 51, 34], ['Bubble Gum', 42, 51, 50], ['Buttered Popcorn', 30, 41, 49], ['Cantaloupe', 28, 51, 38], ['Cappuccino', 41, 51, 35], ['Caramel Corn', 45, 48, 52], ['Chili Mango', 31, 43, 42], ['Chocolate Pudding', 76, 31, 11], ['Cinnamon', 27, 30, 36], ['Coconut', 33, 31, 35], ['Cotton Candy', 30, 50, 47], ['Crushed Pineapple', 22, 31, 45], ['Dr. Pepper', 24, 35, 28], ['French Vanilla', 42, 47, 51], ['Green Apple', 41, 25, 50], ['Island Punch', 32, 34, 28], ['Juicy Pear', 43, 23, 33], ['Kiwi', 41, 44, 36], ['Lemon Drop', 31, 30, 25], ['Lemon Lime', 45, 51, 41], ['Licorice', 35, 55, 27], ['Mango', 43, 43, 31], ['Margarita', 48, 33, 28], ['Mixed Berry Smoothie', 25, 43, 49], ['Orange Sherbet', 22, 33, 23], ['Peach', 47, 51, 50], ['Pina Colada', 34, 57, 37], ['Plum', 25, 52, 52], ['Pomegranate', 40, 30, 51], ['Raspberry', 43, 47, 42], ['Red Apple', 53, 45, 40], ['Sizzling Cinnamon', 35, 54, 38], ['Sour Cherry', 50, 42, 30], ['Strawberry Cheesecake', 45, 26, 35], ['Strawberry Daiquiri', 26, 37, 34], ['Strawberry Jam', 48, 38, 53], ['Sunkist Lemon', 47, 23, 50], ['Sunkist Lime', 32, 26, 50], ['Sunkist Orange', 46, 41, 33], ['Sunkist Pink Grapefruit', 33, 38, 55], ['Sunkist Tangerine', 22, 49, 30], ['Toasted Marshmallow', 48, 40, 37], ['Top Banana', 24, 36, 43], ['Tutti-Fruitti', 35, 43, 54], ['Very Cherry', 32, 31, 44], ['Watermelon', 40, 45, 39], ['Wild Blackberry', 26, 34, 33]]\n",
      "+-------------------------+------+-----+-------+\n",
      "|         Flavor          | Alex | Ben | Clara |\n",
      "+-------------------------+------+-----+-------+\n",
      "|     A&W Cream Soda      |  32  | 54  |  40   |\n",
      "+-------------------------+------+-----+-------+\n",
      "|      A&W Root Beer      |  27  | 35  |  52   |\n",
      "+-------------------------+------+-----+-------+\n",
      "|       Berry Blue        |  55  | 30  |  39   |\n",
      "+-------------------------+------+-----+-------+\n",
      "|        Blueberry        |  32  | 51  |  34   |\n",
      "+-------------------------+------+-----+-------+\n",
      "|       Bubble Gum        |  42  | 51  |  50   |\n",
      "+-------------------------+------+-----+-------+\n",
      "|    Buttered Popcorn     |  30  | 41  |  49   |\n",
      "+-------------------------+------+-----+-------+\n",
      "|       Cantaloupe        |  28  | 51  |  38   |\n",
      "+-------------------------+------+-----+-------+\n",
      "|       Cappuccino        |  41  | 51  |  35   |\n",
      "+-------------------------+------+-----+-------+\n",
      "|      Caramel Corn       |  45  | 48  |  52   |\n",
      "+-------------------------+------+-----+-------+\n",
      "|       Chili Mango       |  31  | 43  |  42   |\n",
      "+-------------------------+------+-----+-------+\n",
      "|    Chocolate Pudding    |  76  | 31  |  11   |\n",
      "+-------------------------+------+-----+-------+\n",
      "|        Cinnamon         |  27  | 30  |  36   |\n",
      "+-------------------------+------+-----+-------+\n",
      "|         Coconut         |  33  | 31  |  35   |\n",
      "+-------------------------+------+-----+-------+\n",
      "|      Cotton Candy       |  30  | 50  |  47   |\n",
      "+-------------------------+------+-----+-------+\n",
      "|    Crushed Pineapple    |  22  | 31  |  45   |\n",
      "+-------------------------+------+-----+-------+\n",
      "|       Dr. Pepper        |  24  | 35  |  28   |\n",
      "+-------------------------+------+-----+-------+\n",
      "|     French Vanilla      |  42  | 47  |  51   |\n",
      "+-------------------------+------+-----+-------+\n",
      "|       Green Apple       |  41  | 25  |  50   |\n",
      "+-------------------------+------+-----+-------+\n",
      "|      Island Punch       |  32  | 34  |  28   |\n",
      "+-------------------------+------+-----+-------+\n",
      "|       Juicy Pear        |  43  | 23  |  33   |\n",
      "+-------------------------+------+-----+-------+\n",
      "|          Kiwi           |  41  | 44  |  36   |\n",
      "+-------------------------+------+-----+-------+\n",
      "|       Lemon Drop        |  31  | 30  |  25   |\n",
      "+-------------------------+------+-----+-------+\n",
      "|       Lemon Lime        |  45  | 51  |  41   |\n",
      "+-------------------------+------+-----+-------+\n",
      "|        Licorice         |  35  | 55  |  27   |\n",
      "+-------------------------+------+-----+-------+\n",
      "|          Mango          |  43  | 43  |  31   |\n",
      "+-------------------------+------+-----+-------+\n",
      "|        Margarita        |  48  | 33  |  28   |\n",
      "+-------------------------+------+-----+-------+\n",
      "|  Mixed Berry Smoothie   |  25  | 43  |  49   |\n",
      "+-------------------------+------+-----+-------+\n",
      "|     Orange Sherbet      |  22  | 33  |  23   |\n",
      "+-------------------------+------+-----+-------+\n",
      "|          Peach          |  47  | 51  |  50   |\n",
      "+-------------------------+------+-----+-------+\n",
      "|       Pina Colada       |  34  | 57  |  37   |\n",
      "+-------------------------+------+-----+-------+\n",
      "|          Plum           |  25  | 52  |  52   |\n",
      "+-------------------------+------+-----+-------+\n",
      "|       Pomegranate       |  40  | 30  |  51   |\n",
      "+-------------------------+------+-----+-------+\n",
      "|        Raspberry        |  43  | 47  |  42   |\n",
      "+-------------------------+------+-----+-------+\n",
      "|        Red Apple        |  53  | 45  |  40   |\n",
      "+-------------------------+------+-----+-------+\n",
      "|    Sizzling Cinnamon    |  35  | 54  |  38   |\n",
      "+-------------------------+------+-----+-------+\n",
      "|       Sour Cherry       |  50  | 42  |  30   |\n",
      "+-------------------------+------+-----+-------+\n",
      "|  Strawberry Cheesecake  |  45  | 26  |  35   |\n",
      "+-------------------------+------+-----+-------+\n",
      "|   Strawberry Daiquiri   |  26  | 37  |  34   |\n",
      "+-------------------------+------+-----+-------+\n",
      "|     Strawberry Jam      |  48  | 38  |  53   |\n",
      "+-------------------------+------+-----+-------+\n",
      "|      Sunkist Lemon      |  47  | 23  |  50   |\n",
      "+-------------------------+------+-----+-------+\n",
      "|      Sunkist Lime       |  32  | 26  |  50   |\n",
      "+-------------------------+------+-----+-------+\n",
      "|     Sunkist Orange      |  46  | 41  |  33   |\n",
      "+-------------------------+------+-----+-------+\n",
      "| Sunkist Pink Grapefruit |  33  | 38  |  55   |\n",
      "+-------------------------+------+-----+-------+\n",
      "|    Sunkist Tangerine    |  22  | 49  |  30   |\n",
      "+-------------------------+------+-----+-------+\n",
      "|   Toasted Marshmallow   |  48  | 40  |  37   |\n",
      "+-------------------------+------+-----+-------+\n",
      "|       Top Banana        |  24  | 36  |  43   |\n",
      "+-------------------------+------+-----+-------+\n",
      "|      Tutti-Fruitti      |  35  | 43  |  54   |\n",
      "+-------------------------+------+-----+-------+\n",
      "|       Very Cherry       |  32  | 31  |  44   |\n",
      "+-------------------------+------+-----+-------+\n",
      "|       Watermelon        |  40  | 45  |  39   |\n",
      "+-------------------------+------+-----+-------+\n",
      "|     Wild Blackberry     |  26  | 34  |  33   |\n",
      "+-------------------------+------+-----+-------+\n"
     ]
    }
   ],
   "source": [
    "# Your implementation:\n",
    "from beautifultable import BeautifulTable\n",
    "table = BeautifulTable()\n",
    "\n",
    "TotalFlavor = []\n",
    "for flavor in flavors:\n",
    "    EachFlavor = [flavor]\n",
    "    for memberName in beanBags:\n",
    "        EachFlavor.append(beanBags[memberName][flavor])\n",
    "    TotalFlavor.append(EachFlavor)\n",
    "print(TotalFlavor)\n",
    "for list in TotalFlavor:\n",
    "    table.rows.append(list)\n",
    "    \n",
    "table.columns.header = [\"Flavor\", \"Alex\", \"Ben\", \"Clara\"]\n",
    "print(table)\n",
    "    \n",
    "\n",
    "\n",
    "    "
   ]
  },
  {
   "cell_type": "code",
   "execution_count": 531,
   "metadata": {},
   "outputs": [
    {
     "name": "stdout",
     "output_type": "stream",
     "text": [
      "+-------------------------+------+-----+-------+\n",
      "|         Flavor          | Alex | Ben | Clara |\n",
      "+-------------------------+------+-----+-------+\n",
      "|     A&W Cream Soda      |  32  | 54  |  40   |\n",
      "+-------------------------+------+-----+-------+\n",
      "|      A&W Root Beer      |  27  | 35  |  52   |\n",
      "+-------------------------+------+-----+-------+\n",
      "|       Berry Blue        |  55  | 30  |  39   |\n",
      "+-------------------------+------+-----+-------+\n",
      "|        Blueberry        |  32  | 51  |  34   |\n",
      "+-------------------------+------+-----+-------+\n",
      "|       Bubble Gum        |  42  | 51  |  50   |\n",
      "+-------------------------+------+-----+-------+\n",
      "|    Buttered Popcorn     |  30  | 41  |  49   |\n",
      "+-------------------------+------+-----+-------+\n",
      "|       Cantaloupe        |  28  | 51  |  38   |\n",
      "+-------------------------+------+-----+-------+\n",
      "|       Cappuccino        |  41  | 51  |  35   |\n",
      "+-------------------------+------+-----+-------+\n",
      "|      Caramel Corn       |  45  | 48  |  52   |\n",
      "+-------------------------+------+-----+-------+\n",
      "|       Chili Mango       |  31  | 43  |  42   |\n",
      "+-------------------------+------+-----+-------+\n",
      "|    Chocolate Pudding    |  76  | 31  |  11   |\n",
      "+-------------------------+------+-----+-------+\n",
      "|        Cinnamon         |  27  | 30  |  36   |\n",
      "+-------------------------+------+-----+-------+\n",
      "|         Coconut         |  33  | 31  |  35   |\n",
      "+-------------------------+------+-----+-------+\n",
      "|      Cotton Candy       |  30  | 50  |  47   |\n",
      "+-------------------------+------+-----+-------+\n",
      "|    Crushed Pineapple    |  22  | 31  |  45   |\n",
      "+-------------------------+------+-----+-------+\n",
      "|       Dr. Pepper        |  24  | 35  |  28   |\n",
      "+-------------------------+------+-----+-------+\n",
      "|     French Vanilla      |  42  | 47  |  51   |\n",
      "+-------------------------+------+-----+-------+\n",
      "|       Green Apple       |  41  | 25  |  50   |\n",
      "+-------------------------+------+-----+-------+\n",
      "|      Island Punch       |  32  | 34  |  28   |\n",
      "+-------------------------+------+-----+-------+\n",
      "|       Juicy Pear        |  43  | 23  |  33   |\n",
      "+-------------------------+------+-----+-------+\n",
      "|          Kiwi           |  41  | 44  |  36   |\n",
      "+-------------------------+------+-----+-------+\n",
      "|       Lemon Drop        |  31  | 30  |  25   |\n",
      "+-------------------------+------+-----+-------+\n",
      "|       Lemon Lime        |  45  | 51  |  41   |\n",
      "+-------------------------+------+-----+-------+\n",
      "|        Licorice         |  35  | 55  |  27   |\n",
      "+-------------------------+------+-----+-------+\n",
      "|          Mango          |  43  | 43  |  31   |\n",
      "+-------------------------+------+-----+-------+\n",
      "|        Margarita        |  48  | 33  |  28   |\n",
      "+-------------------------+------+-----+-------+\n",
      "|  Mixed Berry Smoothie   |  25  | 43  |  49   |\n",
      "+-------------------------+------+-----+-------+\n",
      "|     Orange Sherbet      |  22  | 33  |  23   |\n",
      "+-------------------------+------+-----+-------+\n",
      "|          Peach          |  47  | 51  |  50   |\n",
      "+-------------------------+------+-----+-------+\n",
      "|       Pina Colada       |  34  | 57  |  37   |\n",
      "+-------------------------+------+-----+-------+\n",
      "|          Plum           |  25  | 52  |  52   |\n",
      "+-------------------------+------+-----+-------+\n",
      "|       Pomegranate       |  40  | 30  |  51   |\n",
      "+-------------------------+------+-----+-------+\n",
      "|        Raspberry        |  43  | 47  |  42   |\n",
      "+-------------------------+------+-----+-------+\n",
      "|        Red Apple        |  53  | 45  |  40   |\n",
      "+-------------------------+------+-----+-------+\n",
      "|    Sizzling Cinnamon    |  35  | 54  |  38   |\n",
      "+-------------------------+------+-----+-------+\n",
      "|       Sour Cherry       |  50  | 42  |  30   |\n",
      "+-------------------------+------+-----+-------+\n",
      "|  Strawberry Cheesecake  |  45  | 26  |  35   |\n",
      "+-------------------------+------+-----+-------+\n",
      "|   Strawberry Daiquiri   |  26  | 37  |  34   |\n",
      "+-------------------------+------+-----+-------+\n",
      "|     Strawberry Jam      |  48  | 38  |  53   |\n",
      "+-------------------------+------+-----+-------+\n",
      "|      Sunkist Lemon      |  47  | 23  |  50   |\n",
      "+-------------------------+------+-----+-------+\n",
      "|      Sunkist Lime       |  32  | 26  |  50   |\n",
      "+-------------------------+------+-----+-------+\n",
      "|     Sunkist Orange      |  46  | 41  |  33   |\n",
      "+-------------------------+------+-----+-------+\n",
      "| Sunkist Pink Grapefruit |  33  | 38  |  55   |\n",
      "+-------------------------+------+-----+-------+\n",
      "|    Sunkist Tangerine    |  22  | 49  |  30   |\n",
      "+-------------------------+------+-----+-------+\n",
      "|   Toasted Marshmallow   |  48  | 40  |  37   |\n",
      "+-------------------------+------+-----+-------+\n",
      "|       Top Banana        |  24  | 36  |  43   |\n",
      "+-------------------------+------+-----+-------+\n",
      "|      Tutti-Fruitti      |  35  | 43  |  54   |\n",
      "+-------------------------+------+-----+-------+\n",
      "|       Very Cherry       |  32  | 31  |  44   |\n",
      "+-------------------------+------+-----+-------+\n",
      "|       Watermelon        |  40  | 45  |  39   |\n",
      "+-------------------------+------+-----+-------+\n",
      "|     Wild Blackberry     |  26  | 34  |  33   |\n",
      "+-------------------------+------+-----+-------+\n"
     ]
    }
   ],
   "source": [
    "from beautifultable import BeautifulTable\n",
    "table = BeautifulTable()\n",
    "for flavor in flavors:\n",
    "    adding = []\n",
    "    adding.append(flavor)\n",
    "    for memberName in beanBags:\n",
    "        adding.append(beanBags[memberName][flavor])\n",
    "    table.rows.append(adding)\n",
    "table.columns.header = [\"Flavor\", \"Alex\", \"Ben\", \"Clara\"]\n",
    "print(table)\n",
    "        "
   ]
  },
  {
   "cell_type": "markdown",
   "metadata": {},
   "source": [
    "## Part G - The Recipes\n",
    "\n",
    "Fans of Jelly Bellies like to combine beans to form more complicated, unique flavors, such as \"Apple Pie\" and \"Banana Split\".\n",
    "\n",
    "These combinations are called \"recipes\" because they often combine multiple beans as \"ingredients\" to form a well-known food flavor.\n",
    "\n",
    "**Action:** Create an empty dictionary called `recipes`."
   ]
  },
  {
   "cell_type": "code",
   "execution_count": 532,
   "metadata": {},
   "outputs": [],
   "source": [
    "# Your implementation:\n",
    "recipes = {}\n"
   ]
  },
  {
   "cell_type": "markdown",
   "metadata": {},
   "source": [
    "A simple recipe, \"Cola\" calls for one(1) \"Lemon Lime\" bean and one(1) \"Cinnamon\" bean.\n",
    "\n",
    "We will add this recipe to `recipes`.  The name of the recipe \"Cola\" is the key and the value is... another dictionary where the key of the latter dictionary is the ingredient flavor and the value is the ingredient quantity.\n",
    "\n",
    "**Action:** Execute the following code:"
   ]
  },
  {
   "cell_type": "code",
   "execution_count": 533,
   "metadata": {},
   "outputs": [],
   "source": [
    "recipes[\"Cola\"] = { \"Lemon Lime\": 1, \"Cinnamon\": 1 }"
   ]
  },
  {
   "cell_type": "markdown",
   "metadata": {},
   "source": [
    "**Actions:** Add the following recipes to `recipes` using the same convention as above:\n",
    "\n",
    "- \"Apple Pie\" is the result of eating 2 \"Green Apple\" beans and 1 \"Cinnamon\" bean.\n",
    "- \"Key Lime Pie\" is the result of eating 1 \"Lemon Lime\" bean and 1 \"Toasted Marshmallow\" bean.\n",
    "- \"Pink Lemonade\" is the result of eating 2 \"Cotton Candy\" beans and 2 \"Sunkist Lemon\" beans.\n",
    "- \"Root Beer Float\" is the result of eating 2 \"A&W Root Beer\" beans and 1 \"A&W Cream Soda\" bean.\n",
    "- \"Cafe Mocha\" is the result of eating 2 \"Cappuccino\" beans, 1 \"Chocolate Pudding\" bean, and 1 \"French Vanilla\" bean.\n",
    "- \"Hot Chocolate\" is the result of eating 1 \"Toasted Marshmallow\" bean and 1 \"Chocolate Pudding\" bean.\n",
    "- \"Chocolate-Dipped Strawberries\" is the result of eating 2 \"Strawberry Daiquiri\" beans and 1 \"Chocolate Pudding\" bean.\n",
    "- \"S'mores\" is the result of eating 1 \"Caramel Corn\" bean, 2 \"Toasted Marshmallow\" beans, and 1 \"Chocolate Pudding\" bean.\n",
    "- \"Banana Split\" is the result of eating 1 \"Top Banana\" bean, 1 \"Chocolate Pudding\" bean, 1 \"Crushed Pineapple\" bean, 1 \"Strawberry Jam\" bean, 1 \"Very Cherry\" bean, and 1 \"French Vanilla\" bean."
   ]
  },
  {
   "cell_type": "code",
   "execution_count": 534,
   "metadata": {},
   "outputs": [
    {
     "name": "stdout",
     "output_type": "stream",
     "text": [
      "{'Cola': {'Lemon Lime': 1, 'Cinnamon': 1}, 'Apple Pie': {'Green Apple': 2, 'Cinnamon': 1}, 'Key Lime Pie': {'Lemon Lime': 1, 'Toasted Marshmallow': 1}, 'Pink Lemonade': {'Cotton Candy': 2, 'Sunkist Lemon': 2}, 'Root Beer Float': {'A&W Root Beer': 2, 'A&W Cream Soda': 1}, 'Cafe Mocha': {'Cappuccino': 2, 'Chocolate Pudding': 1, 'French Vanilla': 1}, 'Hot Chocolate': {'Toasted Marshmallow': 1, 'Chocolate Pudding': 1}, 'Chocolate-Dipped Strawberries': {'Strawberry Daiquiri': 2, 'Chocolate Pudding': 1}, \"S'mores\": {'Caramel Corn': 1, 'Toasted Marshmallow': 2, 'Chocolate Pudding': 1}, 'Banana Split': {'Top Banana': 1, 'Chocolate Pudding': 1, 'Crushed Pineapple': 1, 'Strawberry Jam': 1, 'Very Cherry': 1, 'French Vanilla': 1}}\n"
     ]
    }
   ],
   "source": [
    "# Your implementation:\n",
    "recipes[\"Apple Pie\"] = {\"Green Apple\" : 2, \"Cinnamon\" : 1}\n",
    "recipes[\"Key Lime Pie\"] = {\"Lemon Lime\" : 1, \"Toasted Marshmallow\" : 1}\n",
    "recipes[\"Pink Lemonade\"] = {\"Cotton Candy\" : 2, \"Sunkist Lemon\" : 2}\n",
    "recipes[\"Root Beer Float\"] = {\"A&W Root Beer\" : 2, \"A&W Cream Soda\" : 1}\n",
    "recipes[\"Cafe Mocha\"] = {\"Cappuccino\" : 2, \"Chocolate Pudding\" : 1, \"French Vanilla\" : 1}\n",
    "recipes[\"Hot Chocolate\"] = {\"Toasted Marshmallow\" : 1,  \"Chocolate Pudding\" : 1}\n",
    "recipes[\"Chocolate-Dipped Strawberries\"] = {\"Strawberry Daiquiri\" : 2,  \"Chocolate Pudding\" : 1}\n",
    "recipes[\"S'mores\"] = {\"Caramel Corn\" : 1, \"Toasted Marshmallow\" : 2, \"Chocolate Pudding\" : 1}\n",
    "recipes[\"Banana Split\"] = {\"Top Banana\" : 1, \"Chocolate Pudding\" : 1, \"Crushed Pineapple\"  : 1, \"Strawberry Jam\" : 1, \"Very Cherry\" : 1, \n",
    "                          \"French Vanilla\" : 1}\n",
    "print(recipes)\n"
   ]
  },
  {
   "cell_type": "markdown",
   "metadata": {},
   "source": [
    "Sitting around the table, the members have decided to make specific recipes from their beans.\n",
    "\n",
    "They will make the recipes, one at a time, in the following order:\n",
    "\n",
    "1. Key Lime Pie\n",
    "2. Apple Pie\n",
    "3. Cafe Mocha\n",
    "4. Cola\n",
    "5. Hot Chocolate\n",
    "6. Chocolate-Dipped Strawberries\n",
    "7. Pink Lemonade\n",
    "8. Root Beer Float\n",
    "9. Banana Split\n",
    "10. S'mores\n",
    "\n",
    "**Action:** Create a list called `recipeNamesInOrder` to hold the names of these recipes in the order."
   ]
  },
  {
   "cell_type": "code",
   "execution_count": 535,
   "metadata": {},
   "outputs": [],
   "source": [
    "# Your implementation:\n",
    "recipeNamesInOrder = [\"Key Lime Pie\", \"Apple Pie\", \"Cafe Mocha\", \"Cola\", \"Hot Chocolate\", \"Chocolate-Dipped Strawberries\", \"Pink Lemonade\",\n",
    "                      \"Root Beer Float\", \"Banana Split\", \"S'mores\"]\n",
    "                      \n"
   ]
  },
  {
   "cell_type": "markdown",
   "metadata": {},
   "source": [
    "## Part H - Initializing Recipe Counts\n",
    "\n",
    "In this part, you will create a complex data structure (a dictionary of dictionaries) to store the number of recipes that each member makes.\n",
    "\n",
    "**Actions:**\n",
    "\n",
    "- Create a dictionary called `recipeCounts`.\n",
    "- Use a combination of loops and existing variables (`memberNames`, `recipeNamesInOrder`, etc.) to dynamically create a dictionary of dictionaries where:\n",
    "    - The keys for the outer dictionary are the member names.\n",
    "    - The keys for the inner dictionary are the recipe names.\n",
    "    - The value for each member and each recipe is initialized to an integer value of zero (0).\n",
    "- Output `recipeCounts` to the screen to verify the data structure, keys, and values."
   ]
  },
  {
   "cell_type": "code",
   "execution_count": 536,
   "metadata": {},
   "outputs": [
    {
     "name": "stdout",
     "output_type": "stream",
     "text": [
      "{'Alex': {'Key Lime Pie': 0, 'Apple Pie': 0, 'Cafe Mocha': 0, 'Cola': 0, 'Hot Chocolate': 0, 'Chocolate-Dipped Strawberries': 0, 'Pink Lemonade': 0, 'Root Beer Float': 0, 'Banana Split': 0, \"S'mores\": 0}, 'Ben': {'Key Lime Pie': 0, 'Apple Pie': 0, 'Cafe Mocha': 0, 'Cola': 0, 'Hot Chocolate': 0, 'Chocolate-Dipped Strawberries': 0, 'Pink Lemonade': 0, 'Root Beer Float': 0, 'Banana Split': 0, \"S'mores\": 0}, 'Clara': {'Key Lime Pie': 0, 'Apple Pie': 0, 'Cafe Mocha': 0, 'Cola': 0, 'Hot Chocolate': 0, 'Chocolate-Dipped Strawberries': 0, 'Pink Lemonade': 0, 'Root Beer Float': 0, 'Banana Split': 0, \"S'mores\": 0}}\n"
     ]
    }
   ],
   "source": [
    "# Your implementation:\n",
    "recipeCounts = {}\n",
    "for memberName in beanBags:\n",
    "    recipeCounts[memberName] = {}\n",
    "    for recipeName in recipeNamesInOrder:\n",
    "        recipeCounts[memberName][recipeName] = 0\n",
    "print(recipeCounts)\n"
   ]
  },
  {
   "cell_type": "code",
   "execution_count": 537,
   "metadata": {},
   "outputs": [
    {
     "name": "stdout",
     "output_type": "stream",
     "text": [
      "['Key Lime Pie', 'Apple Pie', 'Cafe Mocha', 'Cola', 'Hot Chocolate', 'Chocolate-Dipped Strawberries', 'Pink Lemonade', 'Root Beer Float', 'Banana Split', \"S'mores\"]\n"
     ]
    }
   ],
   "source": [
    "print(recipeNamesInOrder)"
   ]
  },
  {
   "cell_type": "code",
   "execution_count": 538,
   "metadata": {},
   "outputs": [
    {
     "name": "stdout",
     "output_type": "stream",
     "text": [
      "{'Alex': {'A&W Cream Soda': 32, 'A&W Root Beer': 27, 'Berry Blue': 55, 'Blueberry': 32, 'Bubble Gum': 42, 'Buttered Popcorn': 30, 'Cantaloupe': 28, 'Cappuccino': 41, 'Caramel Corn': 45, 'Chili Mango': 31, 'Chocolate Pudding': 76, 'Cinnamon': 27, 'Coconut': 33, 'Cotton Candy': 30, 'Crushed Pineapple': 22, 'Dr. Pepper': 24, 'French Vanilla': 42, 'Green Apple': 41, 'Island Punch': 32, 'Juicy Pear': 43, 'Kiwi': 41, 'Lemon Drop': 31, 'Lemon Lime': 45, 'Licorice': 35, 'Mango': 43, 'Margarita': 48, 'Mixed Berry Smoothie': 25, 'Orange Sherbet': 22, 'Peach': 47, 'Pina Colada': 34, 'Plum': 25, 'Pomegranate': 40, 'Raspberry': 43, 'Red Apple': 53, 'Sizzling Cinnamon': 35, 'Sour Cherry': 50, 'Strawberry Cheesecake': 45, 'Strawberry Daiquiri': 26, 'Strawberry Jam': 48, 'Sunkist Lemon': 47, 'Sunkist Lime': 32, 'Sunkist Orange': 46, 'Sunkist Pink Grapefruit': 33, 'Sunkist Tangerine': 22, 'Toasted Marshmallow': 48, 'Top Banana': 24, 'Tutti-Fruitti': 35, 'Very Cherry': 32, 'Watermelon': 40, 'Wild Blackberry': 26}, 'Ben': {'A&W Cream Soda': 54, 'A&W Root Beer': 35, 'Berry Blue': 30, 'Blueberry': 51, 'Bubble Gum': 51, 'Buttered Popcorn': 41, 'Cantaloupe': 51, 'Cappuccino': 51, 'Caramel Corn': 48, 'Chili Mango': 43, 'Chocolate Pudding': 31, 'Cinnamon': 30, 'Coconut': 31, 'Cotton Candy': 50, 'Crushed Pineapple': 31, 'Dr. Pepper': 35, 'French Vanilla': 47, 'Green Apple': 25, 'Island Punch': 34, 'Juicy Pear': 23, 'Kiwi': 44, 'Lemon Drop': 30, 'Lemon Lime': 51, 'Licorice': 55, 'Mango': 43, 'Margarita': 33, 'Mixed Berry Smoothie': 43, 'Orange Sherbet': 33, 'Peach': 51, 'Pina Colada': 57, 'Plum': 52, 'Pomegranate': 30, 'Raspberry': 47, 'Red Apple': 45, 'Sizzling Cinnamon': 54, 'Sour Cherry': 42, 'Strawberry Cheesecake': 26, 'Strawberry Daiquiri': 37, 'Strawberry Jam': 38, 'Sunkist Lemon': 23, 'Sunkist Lime': 26, 'Sunkist Orange': 41, 'Sunkist Pink Grapefruit': 38, 'Sunkist Tangerine': 49, 'Toasted Marshmallow': 40, 'Top Banana': 36, 'Tutti-Fruitti': 43, 'Very Cherry': 31, 'Watermelon': 45, 'Wild Blackberry': 34}, 'Clara': {'A&W Cream Soda': 40, 'A&W Root Beer': 52, 'Berry Blue': 39, 'Blueberry': 34, 'Bubble Gum': 50, 'Buttered Popcorn': 49, 'Cantaloupe': 38, 'Cappuccino': 35, 'Caramel Corn': 52, 'Chili Mango': 42, 'Chocolate Pudding': 11, 'Cinnamon': 36, 'Coconut': 35, 'Cotton Candy': 47, 'Crushed Pineapple': 45, 'Dr. Pepper': 28, 'French Vanilla': 51, 'Green Apple': 50, 'Island Punch': 28, 'Juicy Pear': 33, 'Kiwi': 36, 'Lemon Drop': 25, 'Lemon Lime': 41, 'Licorice': 27, 'Mango': 31, 'Margarita': 28, 'Mixed Berry Smoothie': 49, 'Orange Sherbet': 23, 'Peach': 50, 'Pina Colada': 37, 'Plum': 52, 'Pomegranate': 51, 'Raspberry': 42, 'Red Apple': 40, 'Sizzling Cinnamon': 38, 'Sour Cherry': 30, 'Strawberry Cheesecake': 35, 'Strawberry Daiquiri': 34, 'Strawberry Jam': 53, 'Sunkist Lemon': 50, 'Sunkist Lime': 50, 'Sunkist Orange': 33, 'Sunkist Pink Grapefruit': 55, 'Sunkist Tangerine': 30, 'Toasted Marshmallow': 37, 'Top Banana': 43, 'Tutti-Fruitti': 54, 'Very Cherry': 44, 'Watermelon': 39, 'Wild Blackberry': 33}}\n"
     ]
    }
   ],
   "source": [
    "print(beanBags)"
   ]
  },
  {
   "cell_type": "code",
   "execution_count": 539,
   "metadata": {},
   "outputs": [
    {
     "name": "stdout",
     "output_type": "stream",
     "text": [
      "{'Cola': {'Lemon Lime': 1, 'Cinnamon': 1}, 'Apple Pie': {'Green Apple': 2, 'Cinnamon': 1}, 'Key Lime Pie': {'Lemon Lime': 1, 'Toasted Marshmallow': 1}, 'Pink Lemonade': {'Cotton Candy': 2, 'Sunkist Lemon': 2}, 'Root Beer Float': {'A&W Root Beer': 2, 'A&W Cream Soda': 1}, 'Cafe Mocha': {'Cappuccino': 2, 'Chocolate Pudding': 1, 'French Vanilla': 1}, 'Hot Chocolate': {'Toasted Marshmallow': 1, 'Chocolate Pudding': 1}, 'Chocolate-Dipped Strawberries': {'Strawberry Daiquiri': 2, 'Chocolate Pudding': 1}, \"S'mores\": {'Caramel Corn': 1, 'Toasted Marshmallow': 2, 'Chocolate Pudding': 1}, 'Banana Split': {'Top Banana': 1, 'Chocolate Pudding': 1, 'Crushed Pineapple': 1, 'Strawberry Jam': 1, 'Very Cherry': 1, 'French Vanilla': 1}}\n"
     ]
    }
   ],
   "source": [
    "print(recipes)"
   ]
  },
  {
   "cell_type": "code",
   "execution_count": 540,
   "metadata": {},
   "outputs": [
    {
     "name": "stdout",
     "output_type": "stream",
     "text": [
      "{'Alex': {'Key Lime Pie': 0, 'Apple Pie': 0, 'Cafe Mocha': 0, 'Cola': 0, 'Hot Chocolate': 0, 'Chocolate-Dipped Strawberries': 0, 'Pink Lemonade': 0, 'Root Beer Float': 0, 'Banana Split': 0, \"S'mores\": 0}, 'Ben': {'Key Lime Pie': 0, 'Apple Pie': 0, 'Cafe Mocha': 0, 'Cola': 0, 'Hot Chocolate': 0, 'Chocolate-Dipped Strawberries': 0, 'Pink Lemonade': 0, 'Root Beer Float': 0, 'Banana Split': 0, \"S'mores\": 0}, 'Clara': {'Key Lime Pie': 0, 'Apple Pie': 0, 'Cafe Mocha': 0, 'Cola': 0, 'Hot Chocolate': 0, 'Chocolate-Dipped Strawberries': 0, 'Pink Lemonade': 0, 'Root Beer Float': 0, 'Banana Split': 0, \"S'mores\": 0}}\n"
     ]
    }
   ],
   "source": [
    "print(recipeCounts)"
   ]
  },
  {
   "cell_type": "markdown",
   "metadata": {},
   "source": [
    "## Part I - Making Recipes\n",
    "\n",
    "In this part, you will have the members \"make\" the recipes and \"eat\" the beans, dynamically.\n",
    "\n",
    "**Action:** Implement the following algorithm:\n",
    "\n",
    "- Iterate over each member\n",
    "- The current member tries to make each recipe, one at a time, in the order specified in `recipeNamesInOrder`.\n",
    "- Each recipe will require the exact ingredient flavors and quantity of beans.\n",
    "- Check if the recipe can be made before the member eats the beans.\n",
    "- If the recipe cannot be made, the member moves on to the next recipe.\n",
    "- Otherwise (if the recipe can be made):\n",
    "    - The recipe count is incremented by 1 for that recipe and that member, and\n",
    "    - The member eats the recipe (all the recipe's beans), so\n",
    "    - The program adjusts (subtracts) the flavor totals in the member's bag of beans accordingly.  You can't reuse an eaten bean!\n",
    "- After the last recipe in the order specified in `recipeNamesInOrder`, if the member has made at least one recipe successfully (any recipe), then repeat the order again from the beginning.\n",
    "- Otherwise (if the member went through the entire order without being able to make a single recipe), then:\n",
    "    - Stop making recipes (because this member cannot make any more recipes of any kind), and\n",
    "    - Move on to the next member (until there are no more members).\n",
    "- When finished, output `recipeCounts` to the screen to verify the data structure, keys, and values."
   ]
  },
  {
   "cell_type": "code",
   "execution_count": 541,
   "metadata": {
    "scrolled": true
   },
   "outputs": [
    {
     "name": "stdout",
     "output_type": "stream",
     "text": [
      "{'Lemon Lime': 1, 'Cinnamon': 1}\n",
      "no\n"
     ]
    }
   ],
   "source": [
    "print(recipes['Cola'])\n",
    "len(recipes['Cola'])\n",
    "recipe_check = [True, False, True]\n",
    "if False in recipe_check:\n",
    "    print(\"no\")\n",
    "else:\n",
    "    print(\"yes\")"
   ]
  },
  {
   "cell_type": "code",
   "execution_count": null,
   "metadata": {},
   "outputs": [],
   "source": [
    "# Your implementation:\n",
    "for memberName in beanBags:\n",
    "    made_a_recipe = True\n",
    "    while made_a_recipe:\n",
    "        made_a_recipe = False\n",
    "        for recipeName in recipeNamesInOrder:\n",
    "            recipe = recipes[recipeName] \n",
    "            ingredient_check = []\n",
    "            \n",
    "            for ingredientName in recipe:\n",
    "                if beanBags[memberName].get(ingredientName, 0) < recipe[ingredientName]:\n",
    "                    ingredient_check.append(False)\n",
    "                else:\n",
    "                    ingredient_check.append(True)\n",
    "                    \n",
    "            if False not in ingredient_check:\n",
    "                for ingredientName in recipe:\n",
    "                    beanBags[memberName][ingredientName] = beanBags[memberName][ingredientName] - recipe[ingredientName]\n",
    "                recipeCounts[memberName][recipeName] = recipeCounts[memberName][recipeName] + 1\n",
    "                made_a_recipe = True\n",
    "        if not made_a_recipe:\n",
    "            break\n",
    "print(recipeCounts)"
   ]
  },
  {
   "cell_type": "markdown",
   "metadata": {},
   "source": [
    "## Part J - Display Recipe Counts\n",
    "\n",
    "**Action:** Create a table showing the counts of each recipe made by each of the Jelly Belly Fan Club members.\n",
    "\n",
    "- Use the beautifultable Python package to achieve column-based layout.\n",
    "- Column 1: Recipe (display the recipe name)\n",
    "- Column 2: Alex (display the number of recipes made of this recipe by Alex)\n",
    "- Column 3: Ben (display the number of recipes made of this recipe by Ben)\n",
    "- Column 4: Clara (display the number of recipes made of this recipe by Clara)\n",
    "- Do not use hard-coded strings for recipe names.\n",
    "- Do not use hard-coded strings for member names."
   ]
  },
  {
   "cell_type": "code",
   "execution_count": 550,
   "metadata": {},
   "outputs": [
    {
     "name": "stdout",
     "output_type": "stream",
     "text": [
      "+-------------------------------+------+-----+-------+\n",
      "|            Recipe             | Alex | Ben | Clara |\n",
      "+-------------------------------+------+-----+-------+\n",
      "|         Key Lime Pie          |  12  | 22  |  23   |\n",
      "+-------------------------------+------+-----+-------+\n",
      "|           Apple Pie           |  14  | 12  |  18   |\n",
      "+-------------------------------+------+-----+-------+\n",
      "|          Cafe Mocha           |  20  |  7  |   3   |\n",
      "+-------------------------------+------+-----+-------+\n",
      "|             Cola              |  13  | 18  |  18   |\n",
      "+-------------------------------+------+-----+-------+\n",
      "|         Hot Chocolate         |  12  |  6  |   2   |\n",
      "+-------------------------------+------+-----+-------+\n",
      "| Chocolate-Dipped Strawberries |  13  |  6  |   2   |\n",
      "+-------------------------------+------+-----+-------+\n",
      "|         Pink Lemonade         |  15  | 11  |  23   |\n",
      "+-------------------------------+------+-----+-------+\n",
      "|        Root Beer Float        |  13  | 17  |  26   |\n",
      "+-------------------------------+------+-----+-------+\n",
      "|         Banana Split          |  19  |  6  |   2   |\n",
      "+-------------------------------+------+-----+-------+\n",
      "|            S'mores            |  12  |  6  |   2   |\n",
      "+-------------------------------+------+-----+-------+\n"
     ]
    }
   ],
   "source": [
    "# Your implementation:\n",
    "from beautifultable import BeautifulTable\n",
    "table = BeautifulTable()\n",
    "\n",
    "TotalRecipe = []\n",
    "for recipe in recipeNamesInOrder:\n",
    "    EachRecipe = [recipe]\n",
    "    for memberName in recipeCounts:\n",
    "        EachRecipe.append(recipeCounts[memberName][recipe])\n",
    "    TotalRecipe.append(EachRecipe)\n",
    "\n",
    "for list in TotalRecipe:\n",
    "    table.rows.append(list)\n",
    "    \n",
    "table.columns.header = [\"Recipe\", \"Alex\", \"Ben\", \"Clara\"]\n",
    "print(table)\n"
   ]
  },
  {
   "cell_type": "markdown",
   "metadata": {},
   "source": [
    "**Action:** Store the number of \"Root Beer Float\" recipes that Ben made in a variable called `numRootBeerFloats`.\n",
    "\n",
    "- Note: You may use hard-coded string values for list, tuple, or dictionary access."
   ]
  },
  {
   "cell_type": "code",
   "execution_count": 544,
   "metadata": {},
   "outputs": [],
   "source": [
    "# Your implementation:\n",
    "numRootBeerFloats = 17\n"
   ]
  },
  {
   "cell_type": "markdown",
   "metadata": {},
   "source": [
    "**Action:** Use a loop to dynamically determine which member made the most \"Pink Lemonade\" recipes (and how many).\n",
    "\n",
    "- Store the correct member name value in `pinkLemonadeMaxMemberName`.\n",
    "- Store the correct number of recipes in `pinkLemonadeMaxNumber`.\n",
    "- You may use a hard-coded string for \"Pink Lemonade\", but not for member names."
   ]
  },
  {
   "cell_type": "code",
   "execution_count": 545,
   "metadata": {},
   "outputs": [
    {
     "name": "stdout",
     "output_type": "stream",
     "text": [
      "Alex\n",
      "13\n"
     ]
    }
   ],
   "source": [
    "# Your implementation:\n",
    "pinkLemonadeMaxMemberName = ''\n",
    "pinkLemonadeMaxNumber = 0\n",
    "pinkLemonadeInfo = {}\n",
    "\n",
    "for memberName in recipeCounts:\n",
    "    pinkLemonadeCount = recipeCounts[memberName].get('Pink Lemonade')\n",
    "    pinkLemonadeInfo[memberName] = pinkLemonadeCount\n",
    "    \n",
    "for name, number in pinkLemonadeInfo.items():\n",
    "    if number > pinkLemonadeMaxNumber:\n",
    "        pinkLemonadeMaxNumber = number\n",
    "        pinkLemonadeMaxMemberName = name\n",
    "\n",
    "print(pinkLemonadeMaxMemberName)\n",
    "print(pinkLemonadeMaxNumber)\n",
    "    \n",
    "                              \n"
   ]
  },
  {
   "cell_type": "markdown",
   "metadata": {},
   "source": [
    "**Action:** How many total recipes combined did all the members make?  Store the value in a variable called `totalRecipes`."
   ]
  },
  {
   "cell_type": "code",
   "execution_count": 546,
   "metadata": {},
   "outputs": [
    {
     "name": "stdout",
     "output_type": "stream",
     "text": [
      "219\n"
     ]
    }
   ],
   "source": [
    "# Your implementation:\n",
    "totalRecipes = 0\n",
    "listTotalRecipes = []\n",
    "\n",
    "for name, recipe in recipeCounts.items():\n",
    "    for recipeName, recipeNumber in recipe.items():\n",
    "        listTotalRecipes.append(recipeNumber)\n",
    "\n",
    "totalRecipes = sum(listTotalRecipes)\n",
    "print(totalRecipes)\n",
    "\n"
   ]
  },
  {
   "cell_type": "markdown",
   "metadata": {},
   "source": [
    "## Part K - The Final Results\n",
    "\n",
    "To achieve points in this part, you must determine the correct numbers.\n",
    "\n",
    "**Action:** Execute the following code block to report the final results."
   ]
  },
  {
   "cell_type": "code",
   "execution_count": 547,
   "metadata": {},
   "outputs": [
    {
     "name": "stdout",
     "output_type": "stream",
     "text": [
      "All\tTotal Beans:\t\t\t\t9,350\n",
      "All\tTotal Recipes Made:\t\t\t219\n",
      "All\tTotal 'Lemon Line' Beans:\t\t137\n",
      "Alex\tTotal Beans:\t\t\t\t1,854\n",
      "Ben\tRoot Beer Float Recipes Made:\t\t17\n",
      "\tMost Pink Lemonade Recipes Made:\t13 (by Alex)\n"
     ]
    }
   ],
   "source": [
    "# print the final results\n",
    "\n",
    "try:\n",
    "    print (\"All\\tTotal Beans:\\t\\t\\t\\t{:,}\".format (totalBeansAllMembers))\n",
    "except NameError:\n",
    "    print (\"Error: totalBeansAllMembers not found.\")\n",
    "    \n",
    "try:\n",
    "    print (\"All\\tTotal Recipes Made:\\t\\t\\t{:,}\".format(totalRecipes))\n",
    "except NameError:\n",
    "    print (\"Error: totalRecipes not found.\")\n",
    "\n",
    "try:\n",
    "    print (\"All\\tTotal 'Lemon Line' Beans:\\t\\t{:,}\".format (totalLemonLimeAllMembers))\n",
    "except NameError:\n",
    "    print (\"Error: totalLemonLimeAllMembers not found.\")\n",
    "\n",
    "try:\n",
    "    print (\"Alex\\tTotal Beans:\\t\\t\\t\\t{:,}\".format(totalBeansAlex))\n",
    "except NameError:\n",
    "    print (\"Error: totalBeansAlex not found.\")\n",
    "\n",
    "try:\n",
    "    print (\"Ben\\tRoot Beer Float Recipes Made:\\t\\t{:,}\".format (numRootBeerFloats))\n",
    "except NameError:\n",
    "    print (\"Error: numRootBeerFloats not found.\")\n",
    "    \n",
    "try:\n",
    "    print (\"\\tMost Pink Lemonade Recipes Made:\\t{:,} (by {})\".format (pinkLemonadeMaxNumber, pinkLemonadeMaxMemberName))\n",
    "except NameError:\n",
    "    print (\"Error: pinkLemonadeMaxNumber or pinkLemonadeMaxMemberName not found.\")"
   ]
  }
 ],
 "metadata": {
  "kernelspec": {
   "display_name": "Python 3 (ipykernel)",
   "language": "python",
   "name": "python3"
  },
  "language_info": {
   "codemirror_mode": {
    "name": "ipython",
    "version": 3
   },
   "file_extension": ".py",
   "mimetype": "text/x-python",
   "name": "python",
   "nbconvert_exporter": "python",
   "pygments_lexer": "ipython3",
   "version": "3.9.13"
  }
 },
 "nbformat": 4,
 "nbformat_minor": 2
}
